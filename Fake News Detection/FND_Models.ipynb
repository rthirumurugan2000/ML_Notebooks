{
  "nbformat": 4,
  "nbformat_minor": 0,
  "metadata": {
    "accelerator": "GPU",
    "colab": {
      "name": "FND-Models.ipynb",
      "provenance": [],
      "collapsed_sections": []
    },
    "kernelspec": {
      "display_name": "Python 3",
      "name": "python3"
    },
    "language_info": {
      "name": "python"
    }
  },
  "cells": [
    {
      "cell_type": "code",
      "metadata": {
        "colab": {
          "base_uri": "https://localhost:8080/"
        },
        "id": "0r2t7bXoO03b",
        "outputId": "b294b494-d0e0-43e9-cee8-046310462acd"
      },
      "source": [
        "from google.colab import drive\n",
        "drive.mount(\"/content/gdrive\")"
      ],
      "execution_count": 1,
      "outputs": [
        {
          "output_type": "stream",
          "text": [
            "Mounted at /content/gdrive\n"
          ],
          "name": "stdout"
        }
      ]
    },
    {
      "cell_type": "code",
      "metadata": {
        "id": "c_lKAM0IP2-0"
      },
      "source": [
        "import numpy as np\n",
        "import pandas as pd\n",
        "import matplotlib.pyplot as plt\n",
        "import re\n",
        "import nltk\n",
        "import seaborn as sns\n",
        "from wordcloud import WordCloud"
      ],
      "execution_count": 2,
      "outputs": []
    },
    {
      "cell_type": "code",
      "metadata": {
        "id": "RyounEbeRr2k"
      },
      "source": [
        "from sklearn.model_selection import train_test_split\n",
        "from tensorflow.keras.preprocessing.text import Tokenizer\n",
        "from tensorflow.keras.preprocessing.sequence import pad_sequences\n",
        "from tensorflow.keras.models import Sequential\n",
        "from tensorflow.keras.layers import Dense,Embedding,LSTM,Conv1D,MaxPool1D"
      ],
      "execution_count": 3,
      "outputs": []
    },
    {
      "cell_type": "code",
      "metadata": {
        "id": "Xk9QyoVVRxGp"
      },
      "source": [
        "data = pd.read_csv('/content/gdrive/MyDrive/fakenews_df.csv')"
      ],
      "execution_count": 4,
      "outputs": []
    },
    {
      "cell_type": "code",
      "metadata": {
        "colab": {
          "base_uri": "https://localhost:8080/",
          "height": 204
        },
        "id": "_DZWzmeBSPGO",
        "outputId": "9846504d-f4b7-47ca-950b-87193cb9dd9b"
      },
      "source": [
        "data.sample(5)"
      ],
      "execution_count": 5,
      "outputs": [
        {
          "output_type": "execute_result",
          "data": {
            "text/html": [
              "<div>\n",
              "<style scoped>\n",
              "    .dataframe tbody tr th:only-of-type {\n",
              "        vertical-align: middle;\n",
              "    }\n",
              "\n",
              "    .dataframe tbody tr th {\n",
              "        vertical-align: top;\n",
              "    }\n",
              "\n",
              "    .dataframe thead th {\n",
              "        text-align: right;\n",
              "    }\n",
              "</style>\n",
              "<table border=\"1\" class=\"dataframe\">\n",
              "  <thead>\n",
              "    <tr style=\"text-align: right;\">\n",
              "      <th></th>\n",
              "      <th>text</th>\n",
              "      <th>class</th>\n",
              "    </tr>\n",
              "  </thead>\n",
              "  <tbody>\n",
              "    <tr>\n",
              "      <th>13905</th>\n",
              "      <td>north koreas wounded defector nice guy likes c...</td>\n",
              "      <td>1</td>\n",
              "    </tr>\n",
              "    <tr>\n",
              "      <th>13454</th>\n",
              "      <td>kremlin calls us congress move rt tv station u...</td>\n",
              "      <td>1</td>\n",
              "    </tr>\n",
              "    <tr>\n",
              "      <th>17416</th>\n",
              "      <td>kenyan opposition leader odinga withdrew vote ...</td>\n",
              "      <td>1</td>\n",
              "    </tr>\n",
              "    <tr>\n",
              "      <th>13702</th>\n",
              "      <td>kenya president uhuru kenyatta sworn second fi...</td>\n",
              "      <td>1</td>\n",
              "    </tr>\n",
              "    <tr>\n",
              "      <th>36209</th>\n",
              "      <td>hollywood porn director makes chappaquiddick m...</td>\n",
              "      <td>0</td>\n",
              "    </tr>\n",
              "  </tbody>\n",
              "</table>\n",
              "</div>"
            ],
            "text/plain": [
              "                                                    text  class\n",
              "13905  north koreas wounded defector nice guy likes c...      1\n",
              "13454  kremlin calls us congress move rt tv station u...      1\n",
              "17416  kenyan opposition leader odinga withdrew vote ...      1\n",
              "13702  kenya president uhuru kenyatta sworn second fi...      1\n",
              "36209  hollywood porn director makes chappaquiddick m...      0"
            ]
          },
          "metadata": {
            "tags": []
          },
          "execution_count": 5
        }
      ]
    },
    {
      "cell_type": "code",
      "metadata": {
        "id": "q4CjPLHjSTZd"
      },
      "source": [
        "import gensim"
      ],
      "execution_count": 6,
      "outputs": []
    },
    {
      "cell_type": "code",
      "metadata": {
        "id": "5gNHzvFqTDuB"
      },
      "source": [
        "y = data[\"class\"].values"
      ],
      "execution_count": 7,
      "outputs": []
    },
    {
      "cell_type": "code",
      "metadata": {
        "colab": {
          "base_uri": "https://localhost:8080/"
        },
        "id": "H96G4bQ1Tor-",
        "outputId": "c7a58877-babf-479e-adf8-317f46469a66"
      },
      "source": [
        "y"
      ],
      "execution_count": 8,
      "outputs": [
        {
          "output_type": "execute_result",
          "data": {
            "text/plain": [
              "array([1, 1, 1, ..., 0, 0, 0])"
            ]
          },
          "metadata": {
            "tags": []
          },
          "execution_count": 8
        }
      ]
    },
    {
      "cell_type": "code",
      "metadata": {
        "id": "teAls0-vTplN"
      },
      "source": [
        "X = [d.split() for d in data['text'].tolist()] #list of lists"
      ],
      "execution_count": 9,
      "outputs": []
    },
    {
      "cell_type": "code",
      "metadata": {
        "colab": {
          "base_uri": "https://localhost:8080/"
        },
        "id": "GytLcRxOT2mn",
        "outputId": "7256b60c-7ff8-4c0a-8650-7d798ffbf39d"
      },
      "source": [
        "print(X[0])"
      ],
      "execution_count": 10,
      "outputs": [
        {
          "output_type": "stream",
          "text": [
            "['us', 'budget', 'fight', 'looms', 'republicans', 'flip', 'fiscal', 'script', 'head', 'conservative', 'republican', 'faction', 'us', 'congress', 'voted', 'month', 'huge', 'expansion', 'national', 'debt', 'pay', 'tax', 'cuts', 'called', 'fiscal', 'conservative', 'sunday', 'urged', 'budget', 'restraint', '2018', 'keeping', 'sharp', 'pivot', 'way', 'among', 'republicans', 'us', 'representative', 'mark', 'meadows', 'speaking', 'cbs', 'face', 'nation', 'drew', 'hard', 'line', 'federal', 'spending', 'lawmakers', 'bracing', 'battle', 'january', 'return', 'holidays', 'wednesday', 'lawmakers', 'begin', 'trying', 'pass', 'federal', 'budget', 'fight', 'likely', 'linked', 'issues', 'immigration', 'policy', 'even', 'november', 'congressional', 'election', 'campaigns', 'approach', 'republicans', 'seek', 'keep', 'control', 'congress', 'president', 'donald', 'trump', 'republicans', 'want', 'big', 'budget', 'increase', 'military', 'spending', 'democrats', 'also', 'want', 'proportional', 'increases', 'nondefense', 'discretionary', 'spending', 'programs', 'support', 'education', 'scientific', 'research', 'infrastructure', 'public', 'health', 'environmental', 'protection', 'trump', 'administration', 'already', 'willing', 'say', 'going', 'increase', 'nondefense', 'discretionary', 'spending', '7', 'percent', 'meadows', 'chairman', 'small', 'influential', 'house', 'freedom', 'caucus', 'said', 'program', 'democrats', 'saying', 'thats', 'enough', 'need', 'give', 'government', 'pay', 'raise', '10', '11', 'percent', 'fiscal', 'conservative', 'dont', 'see', 'rationale', 'eventually', 'run', 'peoples', 'money', 'said', 'meadows', 'among', 'republicans', 'voted', 'late', 'december', 'partys', 'debtfinanced', 'tax', 'overhaul', 'expected', 'balloon', 'federal', 'budget', 'deficit', 'add', '15', 'trillion', '10', 'years', '20', 'trillion', 'national', 'debt', 'interesting', 'hear', 'mark', 'talk', 'fiscal', 'responsibility', 'democratic', 'us', 'representative', 'joseph', 'crowley', 'said', 'cbs', 'crowley', 'said', 'republican', 'tax', 'bill', 'would', 'require', 'united', 'states', 'borrow', '15', 'trillion', 'paid', 'future', 'generations', 'finance', 'tax', 'cuts', 'corporations', 'rich', 'one', 'least', 'fiscally', 'responsible', 'bills', 'weve', 'ever', 'seen', 'passed', 'history', 'house', 'representatives', 'think', 'going', 'paying', 'many', 'many', 'years', 'come', 'crowley', 'said', 'republicans', 'insist', 'tax', 'package', 'biggest', 'us', 'tax', 'overhaul', '30', 'years', 'boost', 'economy', 'job', 'growth', 'house', 'speaker', 'paul', 'ryan', 'also', 'supported', 'tax', 'bill', 'recently', 'went', 'meadows', 'making', 'clear', 'radio', 'interview', 'welfare', 'entitlement', 'reform', 'party', 'often', 'calls', 'would', 'top', 'republican', 'priority', '2018', 'republican', 'parlance', 'entitlement', 'programs', 'mean', 'food', 'stamps', 'housing', 'assistance', 'medicare', 'medicaid', 'health', 'insurance', 'elderly', 'poor', 'disabled', 'well', 'programs', 'created', 'washington', 'assist', 'needy', 'democrats', 'seized', 'ryans', 'early', 'december', 'remarks', 'saying', 'showed', 'republicans', 'would', 'try', 'pay', 'tax', 'overhaul', 'seeking', 'spending', 'cuts', 'social', 'programs', 'goals', 'house', 'republicans', 'may', 'take', 'back', 'seat', 'senate', 'votes', 'democrats', 'needed', 'approve', 'budget', 'prevent', 'government', 'shutdown', 'democrats', 'use', 'leverage', 'senate', 'republicans', 'narrowly', 'control', 'defend', 'discretionary', 'nondefense', 'programs', 'social', 'spending', 'tackling', 'issue', 'dreamers', 'people', 'brought', 'illegally', 'country', 'children', 'trump', 'september', 'put', 'march', '2018', 'expiration', 'date', 'deferred', 'action', 'childhood', 'arrivals', 'daca', 'program', 'protects', 'young', 'immigrants', 'deportation', 'provides', 'work', 'permits', 'president', 'said', 'recent', 'twitter', 'messages', 'wants', 'funding', 'proposed', 'mexican', 'border', 'wall', 'immigration', 'law', 'changes', 'exchange', 'agreeing', 'help', 'dreamers', 'representative', 'debbie', 'dingell', 'told', 'cbs', 'favor', 'linking', 'issue', 'policy', 'objectives', 'wall', 'funding', 'need', 'daca', 'clean', 'said', 'wednesday', 'trump', 'aides', 'meet', 'congressional', 'leaders', 'discuss', 'issues', 'followed', 'weekend', 'strategy', 'sessions', 'trump', 'republican', 'leaders', 'jan', '6', '7', 'white', 'house', 'said', 'trump', 'also', 'scheduled', 'meet', 'sunday', 'florida', 'republican', 'governor', 'rick', 'scott', 'wants', 'emergency', 'aid', 'house', 'passed', '81', 'billion', 'aid', 'package', 'hurricanes', 'florida', 'texas', 'puerto', 'rico', 'wildfires', 'california', 'package', 'far', 'exceeded', '44', 'billion', 'requested', 'trump', 'administration', 'senate', 'yet', 'voted', 'aid']\n"
          ],
          "name": "stdout"
        }
      ]
    },
    {
      "cell_type": "code",
      "metadata": {
        "id": "j8Bc7SLiT919"
      },
      "source": [
        "DIM = 100\n",
        "w2v_model = gensim.models.Word2Vec(sentences=X,size=DIM,window=10,min_count=1)"
      ],
      "execution_count": 11,
      "outputs": []
    },
    {
      "cell_type": "code",
      "metadata": {
        "id": "0IYZDjOIU2N7",
        "colab": {
          "base_uri": "https://localhost:8080/"
        },
        "outputId": "17ab2977-ef8e-4ca9-9e15-031509d90b48"
      },
      "source": [
        "len(w2v_model.wv.vocab)"
      ],
      "execution_count": 12,
      "outputs": [
        {
          "output_type": "execute_result",
          "data": {
            "text/plain": [
              "231486"
            ]
          },
          "metadata": {
            "tags": []
          },
          "execution_count": 12
        }
      ]
    },
    {
      "cell_type": "code",
      "metadata": {
        "colab": {
          "base_uri": "https://localhost:8080/"
        },
        "id": "7kpNHty9acZB",
        "outputId": "51d2d199-5a20-4f12-ab2d-e1a4465f4bc4"
      },
      "source": [
        "w2v_model.wv.most_similar('us')"
      ],
      "execution_count": 17,
      "outputs": [
        {
          "output_type": "execute_result",
          "data": {
            "text/plain": [
              "[('american', 0.567824125289917),\n",
              " ('httpswwwyoutubecomwatchvz3j8cfq6vuuin', 0.47190427780151367),\n",
              " ('countrys', 0.4488561749458313),\n",
              " ('involvedmedical', 0.4466524124145508),\n",
              " ('iranyoutube', 0.4293958842754364),\n",
              " ('intermediated', 0.42902326583862305),\n",
              " ('490000', 0.4283984899520874),\n",
              " ('washingtons', 0.42569321393966675),\n",
              " ('reinterpreted', 0.42492812871932983),\n",
              " ('marginamong', 0.4235289990901947)]"
            ]
          },
          "metadata": {
            "tags": []
          },
          "execution_count": 17
        }
      ]
    },
    {
      "cell_type": "code",
      "metadata": {
        "colab": {
          "base_uri": "https://localhost:8080/"
        },
        "id": "VSPj-3HTagev",
        "outputId": "d6f8f0cd-4f84-4c8d-ebab-50f5241648f1"
      },
      "source": [
        "w2v_model.wv.most_similar('modi')"
      ],
      "execution_count": 18,
      "outputs": [
        {
          "output_type": "execute_result",
          "data": {
            "text/plain": [
              "[('narendra', 0.8341748714447021),\n",
              " ('modis', 0.7140747308731079),\n",
              " ('indias', 0.6628238558769226),\n",
              " ('india', 0.6274677515029907),\n",
              " ('najib', 0.5674504041671753),\n",
              " ('hindunationalist', 0.5550987720489502),\n",
              " ('beijings', 0.5542279481887817),\n",
              " ('phuc', 0.5505544543266296),\n",
              " ('usjapan', 0.5481256246566772),\n",
              " ('dudeplomacy', 0.5376136302947998)]"
            ]
          },
          "metadata": {
            "tags": []
          },
          "execution_count": 18
        }
      ]
    },
    {
      "cell_type": "code",
      "metadata": {
        "id": "6YGYoUeobP1L"
      },
      "source": [
        "tokenizer = Tokenizer()\n",
        "tokenizer.fit_on_texts(X)"
      ],
      "execution_count": 20,
      "outputs": []
    },
    {
      "cell_type": "code",
      "metadata": {
        "id": "hcPX-pw4b2tz"
      },
      "source": [
        "X = tokenizer.texts_to_sequences(X)"
      ],
      "execution_count": 21,
      "outputs": []
    },
    {
      "cell_type": "code",
      "metadata": {
        "colab": {
          "base_uri": "https://localhost:8080/"
        },
        "id": "ROkTLe6hcISq",
        "outputId": "ab663558-6c45-41d8-d973-c0aff7f06312"
      },
      "source": [
        "tokenizer.word_index"
      ],
      "execution_count": 25,
      "outputs": [
        {
          "output_type": "execute_result",
          "data": {
            "text/plain": [
              "{'said': 1,\n",
              " 'trump': 2,\n",
              " 'us': 3,\n",
              " 'would': 4,\n",
              " 'president': 5,\n",
              " 'people': 6,\n",
              " 'one': 7,\n",
              " 'state': 8,\n",
              " 'new': 9,\n",
              " 'also': 10,\n",
              " 'house': 11,\n",
              " 'donald': 12,\n",
              " 'states': 13,\n",
              " 'clinton': 14,\n",
              " 'obama': 15,\n",
              " 'government': 16,\n",
              " 'republican': 17,\n",
              " 'could': 18,\n",
              " 'white': 19,\n",
              " 'told': 20,\n",
              " 'united': 21,\n",
              " 'like': 22,\n",
              " 'campaign': 23,\n",
              " 'news': 24,\n",
              " 'last': 25,\n",
              " 'election': 26,\n",
              " 'two': 27,\n",
              " 'time': 28,\n",
              " 'party': 29,\n",
              " 'first': 30,\n",
              " 'former': 31,\n",
              " 'hillary': 32,\n",
              " 'even': 33,\n",
              " 'year': 34,\n",
              " 'country': 35,\n",
              " 'video': 36,\n",
              " 'years': 37,\n",
              " 'many': 38,\n",
              " 'media': 39,\n",
              " 'security': 40,\n",
              " 'may': 41,\n",
              " 'say': 42,\n",
              " 'political': 43,\n",
              " 'national': 44,\n",
              " 'police': 45,\n",
              " 'get': 46,\n",
              " 'law': 47,\n",
              " 'made': 48,\n",
              " 'court': 49,\n",
              " 'make': 50,\n",
              " 'american': 51,\n",
              " 'republicans': 52,\n",
              " 'since': 53,\n",
              " 'going': 54,\n",
              " 'percent': 55,\n",
              " 'trumps': 56,\n",
              " 'bill': 57,\n",
              " 'presidential': 58,\n",
              " 'back': 59,\n",
              " 'says': 60,\n",
              " 'russia': 61,\n",
              " 'north': 62,\n",
              " 'senate': 63,\n",
              " 'support': 64,\n",
              " 'democratic': 65,\n",
              " 'administration': 66,\n",
              " 'vote': 67,\n",
              " 'america': 68,\n",
              " 'week': 69,\n",
              " 'including': 70,\n",
              " 'group': 71,\n",
              " 'know': 72,\n",
              " 'officials': 73,\n",
              " 'think': 74,\n",
              " 'according': 75,\n",
              " 'way': 76,\n",
              " 'take': 77,\n",
              " 'public': 78,\n",
              " 'office': 79,\n",
              " 'federal': 80,\n",
              " 'military': 81,\n",
              " 'foreign': 82,\n",
              " 'called': 83,\n",
              " 'right': 84,\n",
              " 'via': 85,\n",
              " 'million': 86,\n",
              " 'world': 87,\n",
              " 'statement': 88,\n",
              " 'department': 89,\n",
              " 'washington': 90,\n",
              " 'want': 91,\n",
              " 'saying': 92,\n",
              " 'tax': 93,\n",
              " 'well': 94,\n",
              " 'see': 95,\n",
              " 'congress': 96,\n",
              " 'still': 97,\n",
              " 'russian': 98,\n",
              " 'tuesday': 99,\n",
              " 'much': 100,\n",
              " 'democrats': 101,\n",
              " 'image': 102,\n",
              " 'another': 103,\n",
              " 'minister': 104,\n",
              " 'day': 105,\n",
              " 'women': 106,\n",
              " 'part': 107,\n",
              " 'wednesday': 108,\n",
              " 'go': 109,\n",
              " 'work': 110,\n",
              " 'china': 111,\n",
              " 'policy': 112,\n",
              " 'friday': 113,\n",
              " 'thursday': 114,\n",
              " 'asked': 115,\n",
              " 'war': 116,\n",
              " 'black': 117,\n",
              " 'deal': 118,\n",
              " 'rights': 119,\n",
              " 'city': 120,\n",
              " 'official': 121,\n",
              " 'secretary': 122,\n",
              " 'monday': 123,\n",
              " '2016': 124,\n",
              " 'americans': 125,\n",
              " 'committee': 126,\n",
              " 'next': 127,\n",
              " 'help': 128,\n",
              " 'general': 129,\n",
              " 'need': 130,\n",
              " 'korea': 131,\n",
              " 'three': 132,\n",
              " 'whether': 133,\n",
              " 'leader': 134,\n",
              " 'case': 135,\n",
              " 'senator': 136,\n",
              " 'never': 137,\n",
              " 'show': 138,\n",
              " 'man': 139,\n",
              " 'around': 140,\n",
              " 'york': 141,\n",
              " 'order': 142,\n",
              " 'fbi': 143,\n",
              " 'members': 144,\n",
              " 'use': 145,\n",
              " 'candidate': 146,\n",
              " 'report': 147,\n",
              " 'meeting': 148,\n",
              " 'took': 149,\n",
              " 'good': 150,\n",
              " 'come': 151,\n",
              " 'every': 152,\n",
              " 'iran': 153,\n",
              " 'end': 154,\n",
              " 'left': 155,\n",
              " 'without': 156,\n",
              " 'reuters': 157,\n",
              " 'power': 158,\n",
              " 'used': 159,\n",
              " 'really': 160,\n",
              " 'top': 161,\n",
              " 'twitter': 162,\n",
              " 'attack': 163,\n",
              " 'put': 164,\n",
              " 'investigation': 165,\n",
              " 'intelligence': 166,\n",
              " 'times': 167,\n",
              " 'countries': 168,\n",
              " 'justice': 169,\n",
              " 'money': 170,\n",
              " 'nuclear': 171,\n",
              " 'syria': 172,\n",
              " 'change': 173,\n",
              " 'voters': 174,\n",
              " 'plan': 175,\n",
              " 'trade': 176,\n",
              " 'month': 177,\n",
              " 'information': 178,\n",
              " 'leaders': 179,\n",
              " 'south': 180,\n",
              " 'family': 181,\n",
              " 'speech': 182,\n",
              " 'decision': 183,\n",
              " 'business': 184,\n",
              " 'international': 185,\n",
              " 'groups': 186,\n",
              " 'reported': 187,\n",
              " 'fact': 188,\n",
              " 'days': 189,\n",
              " 'interview': 190,\n",
              " 'long': 191,\n",
              " 'already': 192,\n",
              " 'director': 193,\n",
              " 'story': 194,\n",
              " 'several': 195,\n",
              " 'far': 196,\n",
              " 'conservative': 197,\n",
              " 'fox': 198,\n",
              " 'chief': 199,\n",
              " 'likely': 200,\n",
              " 'must': 201,\n",
              " 'health': 202,\n",
              " 'call': 203,\n",
              " 'border': 204,\n",
              " 'john': 205,\n",
              " 'something': 206,\n",
              " 'place': 207,\n",
              " 'months': 208,\n",
              " 'immigration': 209,\n",
              " 'clear': 210,\n",
              " 'supporters': 211,\n",
              " 'agency': 212,\n",
              " 'social': 213,\n",
              " 'home': 214,\n",
              " 'islamic': 215,\n",
              " 'among': 216,\n",
              " 'watch': 217,\n",
              " 'sanders': 218,\n",
              " 'move': 219,\n",
              " 'press': 220,\n",
              " 'post': 221,\n",
              " 'believe': 222,\n",
              " 'however': 223,\n",
              " 'barack': 224,\n",
              " 'got': 225,\n",
              " 'program': 226,\n",
              " 'issue': 227,\n",
              " 'billion': 228,\n",
              " 'act': 229,\n",
              " 'might': 230,\n",
              " 'children': 231,\n",
              " 'major': 232,\n",
              " 'came': 233,\n",
              " 'muslim': 234,\n",
              " 'recent': 235,\n",
              " 'least': 236,\n",
              " 'sunday': 237,\n",
              " 'killed': 238,\n",
              " 'seen': 239,\n",
              " 'found': 240,\n",
              " 'things': 241,\n",
              " 'number': 242,\n",
              " 'great': 243,\n",
              " 'control': 244,\n",
              " 'trying': 245,\n",
              " 'democrat': 246,\n",
              " 'today': 247,\n",
              " 'matter': 248,\n",
              " 'though': 249,\n",
              " 'reporters': 250,\n",
              " 'later': 251,\n",
              " 'win': 252,\n",
              " 'defense': 253,\n",
              " 'attacks': 254,\n",
              " 'yet': 255,\n",
              " 'economic': 256,\n",
              " 'eu': 257,\n",
              " 'march': 258,\n",
              " 'making': 259,\n",
              " 'spokesman': 260,\n",
              " 'working': 261,\n",
              " 'went': 262,\n",
              " 'executive': 263,\n",
              " 'become': 264,\n",
              " 'actually': 265,\n",
              " 'cnn': 266,\n",
              " 'school': 267,\n",
              " 'look': 268,\n",
              " 'keep': 269,\n",
              " 'stop': 270,\n",
              " 'big': 271,\n",
              " 'free': 272,\n",
              " 'give': 273,\n",
              " 'little': 274,\n",
              " 'nation': 275,\n",
              " 'system': 276,\n",
              " 'legal': 277,\n",
              " 'un': 278,\n",
              " 'set': 279,\n",
              " 'past': 280,\n",
              " 'violence': 281,\n",
              " 'cruz': 282,\n",
              " 'real': 283,\n",
              " 'forces': 284,\n",
              " 'senior': 285,\n",
              " 'earlier': 286,\n",
              " 'away': 287,\n",
              " 'let': 288,\n",
              " 'four': 289,\n",
              " 'thing': 290,\n",
              " 'point': 291,\n",
              " 'added': 292,\n",
              " 'governor': 293,\n",
              " 'talks': 294,\n",
              " 'member': 295,\n",
              " 'lawmakers': 296,\n",
              " 'nothing': 297,\n",
              " 'january': 298,\n",
              " 'comment': 299,\n",
              " 'illegal': 300,\n",
              " 'sanctions': 301,\n",
              " 'woman': 302,\n",
              " 'ever': 303,\n",
              " 'wall': 304,\n",
              " 'opposition': 305,\n",
              " 'head': 306,\n",
              " 'european': 307,\n",
              " 'local': 308,\n",
              " 'taking': 309,\n",
              " 'nations': 310,\n",
              " 'force': 311,\n",
              " 'known': 312,\n",
              " 'issues': 313,\n",
              " 'human': 314,\n",
              " 'following': 315,\n",
              " 'nominee': 316,\n",
              " 'july': 317,\n",
              " 'prime': 318,\n",
              " 'gop': 319,\n",
              " 'companies': 320,\n",
              " 'possible': 321,\n",
              " 'held': 322,\n",
              " 'gun': 323,\n",
              " 'attorney': 324,\n",
              " 'care': 325,\n",
              " 'supreme': 326,\n",
              " 'wants': 327,\n",
              " 'action': 328,\n",
              " 'across': 329,\n",
              " '2015': 330,\n",
              " 'team': 331,\n",
              " 'judge': 332,\n",
              " 'released': 333,\n",
              " 'pay': 334,\n",
              " 'person': 335,\n",
              " 'expected': 336,\n",
              " 'union': 337,\n",
              " 'men': 338,\n",
              " 'continue': 339,\n",
              " 'job': 340,\n",
              " 'community': 341,\n",
              " 'better': 342,\n",
              " 'company': 343,\n",
              " 'enough': 344,\n",
              " 'others': 345,\n",
              " 'given': 346,\n",
              " 'high': 347,\n",
              " 'night': 348,\n",
              " 'legislation': 349,\n",
              " 'evidence': 350,\n",
              " 'ban': 351,\n",
              " 'financial': 352,\n",
              " '10': 353,\n",
              " 'response': 354,\n",
              " 'history': 355,\n",
              " 'reports': 356,\n",
              " 'taken': 357,\n",
              " 'source': 358,\n",
              " 'budget': 359,\n",
              " 'process': 360,\n",
              " 'question': 361,\n",
              " 'face': 362,\n",
              " 'open': 363,\n",
              " 'images': 364,\n",
              " 'close': 365,\n",
              " 'fight': 366,\n",
              " 'done': 367,\n",
              " 'wrote': 368,\n",
              " 'debate': 369,\n",
              " '20': 370,\n",
              " 'special': 371,\n",
              " 'plans': 372,\n",
              " 'important': 373,\n",
              " 'life': 374,\n",
              " 'syrian': 375,\n",
              " 'june': 376,\n",
              " 'course': 377,\n",
              " 'university': 378,\n",
              " 'refugees': 379,\n",
              " 'anyone': 380,\n",
              " 'lot': 381,\n",
              " 'race': 382,\n",
              " 'run': 383,\n",
              " 'majority': 384,\n",
              " 'private': 385,\n",
              " 'email': 386,\n",
              " 'iraq': 387,\n",
              " 'using': 388,\n",
              " 'second': 389,\n",
              " 'death': 390,\n",
              " 'air': 391,\n",
              " 'crisis': 392,\n",
              " 'putin': 393,\n",
              " 'staff': 394,\n",
              " 'despite': 395,\n",
              " 'conference': 396,\n",
              " 'saturday': 397,\n",
              " 'comments': 398,\n",
              " 'november': 399,\n",
              " 'anything': 400,\n",
              " 'efforts': 401,\n",
              " 'behind': 402,\n",
              " 'accused': 403,\n",
              " 'along': 404,\n",
              " 'lives': 405,\n",
              " 'ago': 406,\n",
              " 'able': 407,\n",
              " 'ryan': 408,\n",
              " 'mexico': 409,\n",
              " 'best': 410,\n",
              " 'saudi': 411,\n",
              " '1': 412,\n",
              " 'agreement': 413,\n",
              " 'mr': 414,\n",
              " 'role': 415,\n",
              " 'early': 416,\n",
              " 'find': 417,\n",
              " 'full': 418,\n",
              " 'future': 419,\n",
              " 'less': 420,\n",
              " 'region': 421,\n",
              " 'lead': 422,\n",
              " 'instead': 423,\n",
              " 'letter': 424,\n",
              " 'comes': 425,\n",
              " 'council': 426,\n",
              " 'weeks': 427,\n",
              " 'five': 428,\n",
              " 'jobs': 429,\n",
              " 'current': 430,\n",
              " 'within': 431,\n",
              " 'due': 432,\n",
              " 'someone': 433,\n",
              " 'civil': 434,\n",
              " 'visit': 435,\n",
              " 'facebook': 436,\n",
              " 'calling': 437,\n",
              " 'sure': 438,\n",
              " 'sources': 439,\n",
              " 'comey': 440,\n",
              " 'service': 441,\n",
              " 'hard': 442,\n",
              " 'coalition': 443,\n",
              " 'students': 444,\n",
              " 'getting': 445,\n",
              " 'texas': 446,\n",
              " 'live': 447,\n",
              " 'name': 448,\n",
              " 'britain': 449,\n",
              " 'center': 450,\n",
              " 'rules': 451,\n",
              " 'young': 452,\n",
              " 'congressional': 453,\n",
              " 'votes': 454,\n",
              " 'israel': 455,\n",
              " 'economy': 456,\n",
              " 'coming': 457,\n",
              " 'effort': 458,\n",
              " 'elections': 459,\n",
              " 'calls': 460,\n",
              " 'muslims': 461,\n",
              " 'candidates': 462,\n",
              " 'emails': 463,\n",
              " 'announced': 464,\n",
              " 'weapons': 465,\n",
              " 'army': 466,\n",
              " 'global': 467,\n",
              " 'paul': 468,\n",
              " 'thousands': 469,\n",
              " 'line': 470,\n",
              " 'ties': 471,\n",
              " 'healthcare': 472,\n",
              " 'citizens': 473,\n",
              " 'event': 474,\n",
              " 'running': 475,\n",
              " 'chairman': 476,\n",
              " 'nearly': 477,\n",
              " 'sent': 478,\n",
              " 'climate': 479,\n",
              " 'talk': 480,\n",
              " '8': 481,\n",
              " 'obamacare': 482,\n",
              " 'racist': 483,\n",
              " 'fake': 484,\n",
              " 'claims': 485,\n",
              " 'street': 486,\n",
              " '2014': 487,\n",
              " 'allow': 488,\n",
              " 'rule': 489,\n",
              " 'daily': 490,\n",
              " 'capital': 491,\n",
              " 'poll': 492,\n",
              " 'position': 493,\n",
              " 'workers': 494,\n",
              " 'december': 495,\n",
              " 'whose': 496,\n",
              " 'october': 497,\n",
              " 'middle': 498,\n",
              " 'ruling': 499,\n",
              " 'led': 500,\n",
              " 'hold': 501,\n",
              " 'wanted': 502,\n",
              " 'tell': 503,\n",
              " 'needs': 504,\n",
              " 'message': 505,\n",
              " 'latest': 506,\n",
              " 'april': 507,\n",
              " 'outside': 508,\n",
              " 'everyone': 509,\n",
              " 'late': 510,\n",
              " 'threat': 511,\n",
              " 'authorities': 512,\n",
              " 'gave': 513,\n",
              " 'east': 514,\n",
              " 'liberal': 515,\n",
              " 'began': 516,\n",
              " 'turkey': 517,\n",
              " 'florida': 518,\n",
              " 'problem': 519,\n",
              " 'bad': 520,\n",
              " 'makes': 521,\n",
              " 'showed': 522,\n",
              " 'reform': 523,\n",
              " 'politics': 524,\n",
              " '15': 525,\n",
              " 'officers': 526,\n",
              " 'leave': 527,\n",
              " 'rally': 528,\n",
              " 'september': 529,\n",
              " 'immigrants': 530,\n",
              " 'bush': 531,\n",
              " 'criminal': 532,\n",
              " 'questions': 533,\n",
              " 'voting': 534,\n",
              " 'failed': 535,\n",
              " 'means': 536,\n",
              " 'organization': 537,\n",
              " 'august': 538,\n",
              " 'start': 539,\n",
              " 'representatives': 540,\n",
              " 'relations': 541,\n",
              " 'meet': 542,\n",
              " 'reason': 543,\n",
              " 'immediately': 544,\n",
              " 'peace': 545,\n",
              " 'lost': 546,\n",
              " 'words': 547,\n",
              " 'list': 548,\n",
              " 'parliament': 549,\n",
              " 'together': 550,\n",
              " 'cut': 551,\n",
              " 'release': 552,\n",
              " 'access': 553,\n",
              " 'speaking': 554,\n",
              " 'policies': 555,\n",
              " 'services': 556,\n",
              " 'hope': 557,\n",
              " 'stand': 558,\n",
              " 'germany': 559,\n",
              " 'funding': 560,\n",
              " 'february': 561,\n",
              " 'different': 562,\n",
              " 'rather': 563,\n",
              " 'central': 564,\n",
              " '2': 565,\n",
              " 'conservatives': 566,\n",
              " 'agencies': 567,\n",
              " 'george': 568,\n",
              " 'ahead': 569,\n",
              " 'spending': 570,\n",
              " 'based': 571,\n",
              " 'tried': 572,\n",
              " 'allies': 573,\n",
              " 'strong': 574,\n",
              " 'read': 575,\n",
              " 'ministry': 576,\n",
              " 'laws': 577,\n",
              " 'sexual': 578,\n",
              " 'planned': 579,\n",
              " 'almost': 580,\n",
              " 'try': 581,\n",
              " '2017': 582,\n",
              " 'millions': 583,\n",
              " 'cannot': 584,\n",
              " 'thought': 585,\n",
              " 'morning': 586,\n",
              " 'received': 587,\n",
              " 'oil': 588,\n",
              " 'six': 589,\n",
              " 'recently': 590,\n",
              " 'allowed': 591,\n",
              " 'host': 592,\n",
              " '30': 593,\n",
              " 'elected': 594,\n",
              " 'protect': 595,\n",
              " 'idea': 596,\n",
              " 'shows': 597,\n",
              " 'enforcement': 598,\n",
              " 'bring': 599,\n",
              " 'shooting': 600,\n",
              " 'charges': 601,\n",
              " 'decided': 602,\n",
              " 'missile': 603,\n",
              " 'old': 604,\n",
              " 'fire': 605,\n",
              " 'key': 606,\n",
              " 'room': 607,\n",
              " 'europe': 608,\n",
              " 'concerns': 609,\n",
              " 'provide': 610,\n",
              " 'parties': 611,\n",
              " 'chinese': 612,\n",
              " 'entire': 613,\n",
              " 'often': 614,\n",
              " 'talking': 615,\n",
              " 'met': 616,\n",
              " 'always': 617,\n",
              " 'near': 618,\n",
              " 'involved': 619,\n",
              " 'situation': 620,\n",
              " 'hate': 621,\n",
              " 'obamas': 622,\n",
              " 'energy': 623,\n",
              " 'happened': 624,\n",
              " 'officer': 625,\n",
              " '3': 626,\n",
              " 'district': 627,\n",
              " 'kind': 628,\n",
              " 'shot': 629,\n",
              " 'bank': 630,\n",
              " 'tweet': 631,\n",
              " 'allegations': 632,\n",
              " 'denied': 633,\n",
              " 'everything': 634,\n",
              " 'presidency': 635,\n",
              " 'california': 636,\n",
              " 'james': 637,\n",
              " 'small': 638,\n",
              " 'movement': 639,\n",
              " 'looking': 640,\n",
              " 'terrorist': 641,\n",
              " 'vice': 642,\n",
              " 'century': 643,\n",
              " 'travel': 644,\n",
              " 'needed': 645,\n",
              " 'arrested': 646,\n",
              " 'myanmar': 647,\n",
              " 'freedom': 648,\n",
              " 'especially': 649,\n",
              " 'agreed': 650,\n",
              " 'side': 651,\n",
              " 'voted': 652,\n",
              " 'include': 653,\n",
              " 'water': 654,\n",
              " 'return': 655,\n",
              " 'bernie': 656,\n",
              " 'nomination': 657,\n",
              " 'hours': 658,\n",
              " 'large': 659,\n",
              " 'protesters': 660,\n",
              " 'documents': 661,\n",
              " 'area': 662,\n",
              " 'potential': 663,\n",
              " 'industry': 664,\n",
              " 'korean': 665,\n",
              " 'crime': 666,\n",
              " 'data': 667,\n",
              " 'request': 668,\n",
              " 'british': 669,\n",
              " '12': 670,\n",
              " 'west': 671,\n",
              " 'market': 672,\n",
              " 'seems': 673,\n",
              " 'although': 674,\n",
              " 'fired': 675,\n",
              " 'representative': 676,\n",
              " 'personal': 677,\n",
              " 'fighting': 678,\n",
              " 'county': 679,\n",
              " 'hearing': 680,\n",
              " 'claim': 681,\n",
              " 'adviser': 682,\n",
              " 'polls': 683,\n",
              " 'wife': 684,\n",
              " 'western': 685,\n",
              " 'hit': 686,\n",
              " 'cases': 687,\n",
              " '2012': 688,\n",
              " 'adding': 689,\n",
              " 'actions': 690,\n",
              " 'foundation': 691,\n",
              " 'either': 692,\n",
              " 'insurance': 693,\n",
              " 'confirmed': 694,\n",
              " 'worked': 695,\n",
              " 'true': 696,\n",
              " 'interest': 697,\n",
              " 'serious': 698,\n",
              " 'decades': 699,\n",
              " 'wrong': 700,\n",
              " 'pressure': 701,\n",
              " 'forward': 702,\n",
              " 'alleged': 703,\n",
              " 'building': 704,\n",
              " 'realdonaldtrump': 705,\n",
              " 'step': 706,\n",
              " '11': 707,\n",
              " 'front': 708,\n",
              " 'term': 709,\n",
              " '5': 710,\n",
              " 'commission': 711,\n",
              " 'address': 712,\n",
              " 'j': 713,\n",
              " 'leading': 714,\n",
              " 'details': 715,\n",
              " 'spoke': 716,\n",
              " 'claimed': 717,\n",
              " 'tillerson': 718,\n",
              " 'paid': 719,\n",
              " 'biggest': 720,\n",
              " 'probably': 721,\n",
              " 'nov': 722,\n",
              " 'love': 723,\n",
              " 'lawyer': 724,\n",
              " 'passed': 725,\n",
              " 'college': 726,\n",
              " 'continued': 727,\n",
              " 'clearly': 728,\n",
              " '4': 729,\n",
              " 'review': 730,\n",
              " 'mike': 731,\n",
              " 'feel': 732,\n",
              " 'board': 733,\n",
              " 'truth': 734,\n",
              " 'main': 735,\n",
              " 'families': 736,\n",
              " 'appeared': 737,\n",
              " 'final': 738,\n",
              " 'primary': 739,\n",
              " 'victory': 740,\n",
              " 'ted': 741,\n",
              " 'soon': 742,\n",
              " 'moscow': 743,\n",
              " 'michael': 744,\n",
              " 'leadership': 745,\n",
              " 'son': 746,\n",
              " 'mean': 747,\n",
              " 'protest': 748,\n",
              " 'father': 749,\n",
              " 'taxes': 750,\n",
              " 'turn': 751,\n",
              " 'terrorism': 752,\n",
              " 'network': 753,\n",
              " 'dont': 754,\n",
              " 'aid': 755,\n",
              " 'record': 756,\n",
              " 'brought': 757,\n",
              " 'dollars': 758,\n",
              " 'sessions': 759,\n",
              " 'declined': 760,\n",
              " 'pence': 761,\n",
              " 'cia': 762,\n",
              " 'result': 763,\n",
              " 'deputy': 764,\n",
              " 'simply': 765,\n",
              " 'goes': 766,\n",
              " 'toward': 767,\n",
              " 'points': 768,\n",
              " 'remarks': 769,\n",
              " 'turned': 770,\n",
              " 'issued': 771,\n",
              " 'sign': 772,\n",
              " 'became': 773,\n",
              " 'started': 774,\n",
              " 'independence': 775,\n",
              " 'spent': 776,\n",
              " 'arabia': 777,\n",
              " 'protests': 778,\n",
              " 'david': 779,\n",
              " 'posted': 780,\n",
              " 'flynn': 781,\n",
              " 'included': 782,\n",
              " 'mayor': 783,\n",
              " 'agenda': 784,\n",
              " 'signed': 785,\n",
              " 'secret': 786,\n",
              " 'view': 787,\n",
              " 'isis': 788,\n",
              " '25': 789,\n",
              " 'religious': 790,\n",
              " 'influence': 791,\n",
              " 'attempt': 792,\n",
              " 'mccain': 793,\n",
              " 'article': 794,\n",
              " 'push': 795,\n",
              " 'town': 796,\n",
              " 'popular': 797,\n",
              " 'mark': 798,\n",
              " 'previously': 799,\n",
              " 'rubio': 800,\n",
              " 'forced': 801,\n",
              " 'german': 802,\n",
              " 'raised': 803,\n",
              " 'merkel': 804,\n",
              " 'pass': 805,\n",
              " 'fund': 806,\n",
              " 'relationship': 807,\n",
              " 'guy': 808,\n",
              " 'pretty': 809,\n",
              " 'food': 810,\n",
              " 'child': 811,\n",
              " 'level': 812,\n",
              " '2013': 813,\n",
              " 'giving': 814,\n",
              " 'clintons': 815,\n",
              " 'half': 816,\n",
              " 'seeking': 817,\n",
              " 'al': 818,\n",
              " 'saw': 819,\n",
              " 'militants': 820,\n",
              " 'account': 821,\n",
              " 'website': 822,\n",
              " 'short': 823,\n",
              " 'convention': 824,\n",
              " 'gets': 825,\n",
              " 'speak': 826,\n",
              " 'cost': 827,\n",
              " 'conflict': 828,\n",
              " 'helped': 829,\n",
              " 'debt': 830,\n",
              " 'speaker': 831,\n",
              " 'friends': 832,\n",
              " 'proposed': 833,\n",
              " 'total': 834,\n",
              " 'increase': 835,\n",
              " 'firm': 836,\n",
              " 'hundreds': 837,\n",
              " 'voter': 838,\n",
              " 'ask': 839,\n",
              " 'ambassador': 840,\n",
              " 'reality': 841,\n",
              " 'armed': 842,\n",
              " 'wire': 843,\n",
              " 'described': 844,\n",
              " 'longer': 845,\n",
              " 'repeatedly': 846,\n",
              " 'phone': 847,\n",
              " 'remain': 848,\n",
              " 'created': 849,\n",
              " 'largest': 850,\n",
              " 'regional': 851,\n",
              " 'independent': 852,\n",
              " 'fear': 853,\n",
              " 'areas': 854,\n",
              " 'heard': 855,\n",
              " 'violent': 856,\n",
              " 'constitution': 857,\n",
              " 'tv': 858,\n",
              " 'discuss': 859,\n",
              " 'hand': 860,\n",
              " 'troops': 861,\n",
              " 'changes': 862,\n",
              " 'respond': 863,\n",
              " 'education': 864,\n",
              " 'currently': 865,\n",
              " 'criticized': 866,\n",
              " 'similar': 867,\n",
              " 'funds': 868,\n",
              " 'flag': 869,\n",
              " 'victims': 870,\n",
              " 'brexit': 871,\n",
              " 'build': 872,\n",
              " 'whole': 873,\n",
              " 'carolina': 874,\n",
              " 'crowd': 875,\n",
              " 'senators': 876,\n",
              " 'programs': 877,\n",
              " '21st': 878,\n",
              " 'example': 879,\n",
              " 'else': 880,\n",
              " 'criticism': 881,\n",
              " 'hands': 882,\n",
              " 'third': 883,\n",
              " 'incident': 884,\n",
              " 'stay': 885,\n",
              " 'employees': 886,\n",
              " 'robert': 887,\n",
              " 'mass': 888,\n",
              " 'northern': 889,\n",
              " 'refugee': 890,\n",
              " 'single': 891,\n",
              " 'warned': 892,\n",
              " 'seven': 893,\n",
              " 'telling': 894,\n",
              " 'mainstream': 895,\n",
              " 'absolutely': 896,\n",
              " 'living': 897,\n",
              " '100': 898,\n",
              " 'rate': 899,\n",
              " 'published': 900,\n",
              " '13': 901,\n",
              " 'base': 902,\n",
              " 'france': 903,\n",
              " 'rohingya': 904,\n",
              " 'risk': 905,\n",
              " 'terrorists': 906,\n",
              " 'asking': 907,\n",
              " 'reporter': 908,\n",
              " 'spokeswoman': 909,\n",
              " 'johnson': 910,\n",
              " 'cause': 911,\n",
              " 'presidentelect': 912,\n",
              " 'powerful': 913,\n",
              " 'dangerous': 914,\n",
              " 'japan': 915,\n",
              " 'inside': 916,\n",
              " 'experts': 917,\n",
              " 'transition': 918,\n",
              " 'takes': 919,\n",
              " 'focus': 920,\n",
              " 'concerned': 921,\n",
              " 'medical': 922,\n",
              " '18': 923,\n",
              " 'operations': 924,\n",
              " 'proposal': 925,\n",
              " 'iraqi': 926,\n",
              " 'lower': 927,\n",
              " 'opinion': 928,\n",
              " 'tweeted': 929,\n",
              " 'understand': 930,\n",
              " 'appears': 931,\n",
              " 'apparently': 932,\n",
              " 'form': 933,\n",
              " 'measures': 934,\n",
              " 'dead': 935,\n",
              " 'san': 936,\n",
              " 'radio': 937,\n",
              " 'happen': 938,\n",
              " 'safe': 939,\n",
              " '24': 940,\n",
              " 'christian': 941,\n",
              " 'share': 942,\n",
              " 'television': 943,\n",
              " 'fraud': 944,\n",
              " 'businesses': 945,\n",
              " 'consider': 946,\n",
              " 'exactly': 947,\n",
              " 'seek': 948,\n",
              " 'charged': 949,\n",
              " 'completely': 950,\n",
              " 'served': 951,\n",
              " 'joe': 952,\n",
              " 'project': 953,\n",
              " 'interests': 954,\n",
              " 'corruption': 955,\n",
              " 'previous': 956,\n",
              " 'events': 957,\n",
              " 'kurdish': 958,\n",
              " 'concern': 959,\n",
              " 'safety': 960,\n",
              " '7': 961,\n",
              " 'king': 962,\n",
              " 'research': 963,\n",
              " 'quickly': 964,\n",
              " 'prevent': 965,\n",
              " 'politicians': 966,\n",
              " 'results': 967,\n",
              " 'page': 968,\n",
              " 'southern': 969,\n",
              " 'committed': 970,\n",
              " 'individuals': 971,\n",
              " 'answer': 972,\n",
              " 'problems': 973,\n",
              " 'breitbart': 974,\n",
              " '16': 975,\n",
              " 'prison': 976,\n",
              " '14': 977,\n",
              " 'trip': 978,\n",
              " 'respect': 979,\n",
              " 'died': 980,\n",
              " 'nato': 981,\n",
              " 'fellow': 982,\n",
              " 'huge': 983,\n",
              " 'virginia': 984,\n",
              " 'threats': 985,\n",
              " 'urged': 986,\n",
              " 'development': 987,\n",
              " 'moment': 988,\n",
              " 'ground': 989,\n",
              " 'internet': 990,\n",
              " 'ready': 991,\n",
              " 'presidents': 992,\n",
              " 'numbers': 993,\n",
              " 'panel': 994,\n",
              " 'student': 995,\n",
              " 'named': 996,\n",
              " 'drug': 997,\n",
              " 'poor': 998,\n",
              " 'residents': 999,\n",
              " 'certainly': 1000,\n",
              " ...}"
            ]
          },
          "metadata": {
            "tags": []
          },
          "execution_count": 25
        }
      ]
    },
    {
      "cell_type": "code",
      "metadata": {
        "colab": {
          "base_uri": "https://localhost:8080/",
          "height": 265
        },
        "id": "8tbMRnd2cKdL",
        "outputId": "590b84a7-ca5c-4caa-c468-02862931ea5e"
      },
      "source": [
        "plt.hist([len(x) for x in X],bins = 500)\n",
        "plt.show()"
      ],
      "execution_count": 26,
      "outputs": [
        {
          "output_type": "display_data",
          "data": {
            "image/png": "[encoded data removed]",
            "text/plain": [
              "<Figure size 432x288 with 1 Axes>"
            ]
          },
          "metadata": {
            "tags": [],
            "needs_background": "light"
          }
        }
      ]
    },
    {
      "cell_type": "code",
      "metadata": {
        "colab": {
          "base_uri": "https://localhost:8080/"
        },
        "id": "rn_DELWxc_PM",
        "outputId": "d91dfc64-b937-4050-f486-67088fe874b3"
      },
      "source": [
        "nos = np.array([len(x) for x in X ])\n",
        "len(nos[nos>1000])"
      ],
      "execution_count": 27,
      "outputs": [
        {
          "output_type": "execute_result",
          "data": {
            "text/plain": [
              "304"
            ]
          },
          "metadata": {
            "tags": []
          },
          "execution_count": 27
        }
      ]
    },
    {
      "cell_type": "code",
      "metadata": {
        "id": "j84TtkuMdg7W"
      },
      "source": [
        "max_len = 1000\n",
        "X = pad_sequences(X,maxlen=max_len)"
      ],
      "execution_count": 28,
      "outputs": []
    },
    {
      "cell_type": "code",
      "metadata": {
        "colab": {
          "base_uri": "https://localhost:8080/"
        },
        "id": "Va4QNaXbdy96",
        "outputId": "6b8615ad-4210-4318-fe9f-c9865b476206"
      },
      "source": [
        "X.shape"
      ],
      "execution_count": 30,
      "outputs": [
        {
          "output_type": "execute_result",
          "data": {
            "text/plain": [
              "(44897, 1000)"
            ]
          },
          "metadata": {
            "tags": []
          },
          "execution_count": 30
        }
      ]
    },
    {
      "cell_type": "code",
      "metadata": {
        "id": "coEVNna2d04d"
      },
      "source": [
        "vocab_size = len(tokenizer.word_index)+1 # for unknown words\n",
        "vocab = tokenizer.word_index"
      ],
      "execution_count": 49,
      "outputs": []
    },
    {
      "cell_type": "code",
      "metadata": {
        "colab": {
          "base_uri": "https://localhost:8080/"
        },
        "id": "ji_RUvVqe0BB",
        "outputId": "74da1cf3-ee8d-4acb-d81a-e96ffd80e349"
      },
      "source": [
        "vocab_size"
      ],
      "execution_count": 32,
      "outputs": [
        {
          "output_type": "execute_result",
          "data": {
            "text/plain": [
              "231487"
            ]
          },
          "metadata": {
            "tags": []
          },
          "execution_count": 32
        }
      ]
    },
    {
      "cell_type": "code",
      "metadata": {
        "id": "yjPlpzE9eOLg"
      },
      "source": [
        "def get_weights(model):\n",
        "  weight_matrix = np.zeros((vocab_size,DIM))\n",
        "  for word, i in vocab.items():\n",
        "    weight_matrix[i] = model.wv[word]   # initial weights assigned as w2v veector\n",
        "  return weight_matrix"
      ],
      "execution_count": 47,
      "outputs": []
    },
    {
      "cell_type": "code",
      "metadata": {
        "id": "K8_dKllVfVQM"
      },
      "source": [
        "embedding_vectors = get_weights(w2v_model)"
      ],
      "execution_count": 51,
      "outputs": []
    },
    {
      "cell_type": "code",
      "metadata": {
        "colab": {
          "base_uri": "https://localhost:8080/"
        },
        "id": "9Kfc9XLxgYv0",
        "outputId": "321fa6f6-a26f-4cf3-a654-e218b3311ba2"
      },
      "source": [
        "embedding_vectors.shape"
      ],
      "execution_count": 52,
      "outputs": [
        {
          "output_type": "execute_result",
          "data": {
            "text/plain": [
              "(231487, 100)"
            ]
          },
          "metadata": {
            "tags": []
          },
          "execution_count": 52
        }
      ]
    },
    {
      "cell_type": "code",
      "metadata": {
        "id": "StKcJ6Ykhk4z"
      },
      "source": [
        "model = Sequential()\n",
        "model.add(Embedding(vocab_size,output_dim=DIM,weights = [embedding_vectors],input_length=max_len,trainable = False))\n",
        "model.add(LSTM(units = 128))\n",
        "model.add(Dense(1,activation='sigmoid'))\n",
        "model.compile(optimizer='adam',loss = 'binary_crossentropy',metrics = ['acc'])"
      ],
      "execution_count": 54,
      "outputs": []
    },
    {
      "cell_type": "code",
      "metadata": {
        "colab": {
          "base_uri": "https://localhost:8080/"
        },
        "id": "vTHcm_g0jKk8",
        "outputId": "4e157a47-96bc-49cb-8d16-6a1e4b049aad"
      },
      "source": [
        "model.summary()"
      ],
      "execution_count": 55,
      "outputs": [
        {
          "output_type": "stream",
          "text": [
            "Model: \"sequential_1\"\n",
            "_________________________________________________________________\n",
            "Layer (type)                 Output Shape              Param #   \n",
            "=================================================================\n",
            "embedding_1 (Embedding)      (None, 1000, 100)         23148700  \n",
            "_________________________________________________________________\n",
            "lstm_1 (LSTM)                (None, 128)               117248    \n",
            "_________________________________________________________________\n",
            "dense (Dense)                (None, 1)                 129       \n",
            "=================================================================\n",
            "Total params: 23,266,077\n",
            "Trainable params: 117,377\n",
            "Non-trainable params: 23,148,700\n",
            "_________________________________________________________________\n"
          ],
          "name": "stdout"
        }
      ]
    },
    {
      "cell_type": "code",
      "metadata": {
        "id": "M1VDAVMHjUAi"
      },
      "source": [
        "X_train,X_test,y_train,y_test = train_test_split(X,y)"
      ],
      "execution_count": 56,
      "outputs": []
    },
    {
      "cell_type": "code",
      "metadata": {
        "colab": {
          "base_uri": "https://localhost:8080/"
        },
        "id": "r7Y0V5XGjiha",
        "outputId": "8e2e6279-19ee-4afa-9134-20fce3702543"
      },
      "source": [
        "model.fit(X_train,y_train,validation_split=0.3,epochs = 6)"
      ],
      "execution_count": 58,
      "outputs": [
        {
          "output_type": "stream",
          "text": [
            "Epoch 1/6\n",
            "737/737 [==============================] - 125s 170ms/step - loss: 0.1033 - acc: 0.9658 - val_loss: 0.0580 - val_acc: 0.9809\n",
            "Epoch 2/6\n",
            "737/737 [==============================] - 123s 167ms/step - loss: 0.0635 - acc: 0.9781 - val_loss: 0.0482 - val_acc: 0.9853\n",
            "Epoch 3/6\n",
            "737/737 [==============================] - 124s 168ms/step - loss: 0.0322 - acc: 0.9894 - val_loss: 0.0319 - val_acc: 0.9883\n",
            "Epoch 4/6\n",
            "737/737 [==============================] - 124s 169ms/step - loss: 0.0208 - acc: 0.9930 - val_loss: 0.0380 - val_acc: 0.9872\n",
            "Epoch 5/6\n",
            "737/737 [==============================] - 124s 169ms/step - loss: 0.0157 - acc: 0.9954 - val_loss: 0.0444 - val_acc: 0.9855\n",
            "Epoch 6/6\n",
            "737/737 [==============================] - 124s 169ms/step - loss: 0.0186 - acc: 0.9938 - val_loss: 0.0300 - val_acc: 0.9899\n"
          ],
          "name": "stdout"
        },
        {
          "output_type": "execute_result",
          "data": {
            "text/plain": [
              "<tensorflow.python.keras.callbacks.History at 0x7facca8ca510>"
            ]
          },
          "metadata": {
            "tags": []
          },
          "execution_count": 58
        }
      ]
    },
    {
      "cell_type": "code",
      "metadata": {
        "id": "6jUbXm5Uj1P8"
      },
      "source": [
        "y_pred = (model.predict(X_test)>=0.5).astype(int)"
      ],
      "execution_count": 60,
      "outputs": []
    },
    {
      "cell_type": "code",
      "metadata": {
        "colab": {
          "base_uri": "https://localhost:8080/"
        },
        "id": "IC1jH-6Pn7Zz",
        "outputId": "ed5ee9ea-910a-4482-d87d-40c97dd9b922"
      },
      "source": [
        "from sklearn.metrics import accuracy_score\n",
        "accuracy_score(y_test,y_pred)"
      ],
      "execution_count": 61,
      "outputs": [
        {
          "output_type": "execute_result",
          "data": {
            "text/plain": [
              "0.9907349665924277"
            ]
          },
          "metadata": {
            "tags": []
          },
          "execution_count": 61
        }
      ]
    },
    {
      "cell_type": "code",
      "metadata": {
        "id": "umf6-nv_o8DC"
      },
      "source": [
        ""
      ],
      "execution_count": null,
      "outputs": []
    }
  ]
}