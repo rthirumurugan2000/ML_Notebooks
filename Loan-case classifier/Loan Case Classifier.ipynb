{
    "nbformat_minor": 1, 
    "cells": [
        {
            "source": "## Loan Case Classifier", 
            "cell_type": "markdown", 
            "metadata": {
                "collapsed": true
            }
        }, 
        {
            "source": "import itertools\nimport numpy as np\nimport matplotlib.pyplot as plt\nfrom matplotlib.ticker import NullFormatter\nimport pandas as pd\nimport numpy as np\nimport matplotlib.ticker as ticker\nfrom sklearn import preprocessing\n%matplotlib inline", 
            "cell_type": "code", 
            "execution_count": 1, 
            "outputs": [], 
            "metadata": {}
        }, 
        {
            "source": "import warnings\nwarnings.filterwarnings('ignore')", 
            "cell_type": "code", 
            "execution_count": 2, 
            "outputs": [], 
            "metadata": {}
        }, 
        {
            "source": "## Overview of given dataset:", 
            "cell_type": "markdown", 
            "metadata": {}
        }, 
        {
            "source": "# Data set: Loan_train.csv", 
            "cell_type": "markdown", 
            "metadata": {}
        }, 
        {
            "source": "# It contains past loan details of 346 customers", 
            "cell_type": "markdown", 
            "metadata": {}
        }, 
        {
            "source": "!wget -O loan_train.csv https://s3-api.us-geo.objectstorage.softlayer.net/cf-courses-data/CognitiveClass/ML0101ENv3/labs/loan_train.csv", 
            "cell_type": "code", 
            "execution_count": 3, 
            "outputs": [
                {
                    "output_type": "stream", 
                    "name": "stdout", 
                    "text": "--2019-10-02 20:21:14--  https://s3-api.us-geo.objectstorage.softlayer.net/cf-courses-data/CognitiveClass/ML0101ENv3/labs/loan_train.csv\nResolving s3-api.us-geo.objectstorage.softlayer.net (s3-api.us-geo.objectstorage.softlayer.net)... 67.228.254.193\nConnecting to s3-api.us-geo.objectstorage.softlayer.net (s3-api.us-geo.objectstorage.softlayer.net)|67.228.254.193|:443... connected.\nHTTP request sent, awaiting response... 200 OK\nLength: 23101 (23K) [text/csv]\nSaving to: \u2018loan_train.csv\u2019\n\n100%[======================================>] 23,101      --.-K/s   in 0.006s  \n\n2019-10-02 20:21:14 (3.98 MB/s) - \u2018loan_train.csv\u2019 saved [23101/23101]\n\n"
                }
            ], 
            "metadata": {}
        }, 
        {
            "source": "df = pd.read_csv('loan_train.csv')\ndf.head()", 
            "cell_type": "code", 
            "execution_count": 4, 
            "outputs": [
                {
                    "output_type": "execute_result", 
                    "metadata": {}, 
                    "data": {
                        "text/html": "<div>\n<style scoped>\n    .dataframe tbody tr th:only-of-type {\n        vertical-align: middle;\n    }\n\n    .dataframe tbody tr th {\n        vertical-align: top;\n    }\n\n    .dataframe thead th {\n        text-align: right;\n    }\n</style>\n<table border=\"1\" class=\"dataframe\">\n  <thead>\n    <tr style=\"text-align: right;\">\n      <th></th>\n      <th>Unnamed: 0</th>\n      <th>Unnamed: 0.1</th>\n      <th>loan_status</th>\n      <th>Principal</th>\n      <th>terms</th>\n      <th>effective_date</th>\n      <th>due_date</th>\n      <th>age</th>\n      <th>education</th>\n      <th>Gender</th>\n    </tr>\n  </thead>\n  <tbody>\n    <tr>\n      <th>0</th>\n      <td>0</td>\n      <td>0</td>\n      <td>PAIDOFF</td>\n      <td>1000</td>\n      <td>30</td>\n      <td>9/8/2016</td>\n      <td>10/7/2016</td>\n      <td>45</td>\n      <td>High School or Below</td>\n      <td>male</td>\n    </tr>\n    <tr>\n      <th>1</th>\n      <td>2</td>\n      <td>2</td>\n      <td>PAIDOFF</td>\n      <td>1000</td>\n      <td>30</td>\n      <td>9/8/2016</td>\n      <td>10/7/2016</td>\n      <td>33</td>\n      <td>Bechalor</td>\n      <td>female</td>\n    </tr>\n    <tr>\n      <th>2</th>\n      <td>3</td>\n      <td>3</td>\n      <td>PAIDOFF</td>\n      <td>1000</td>\n      <td>15</td>\n      <td>9/8/2016</td>\n      <td>9/22/2016</td>\n      <td>27</td>\n      <td>college</td>\n      <td>male</td>\n    </tr>\n    <tr>\n      <th>3</th>\n      <td>4</td>\n      <td>4</td>\n      <td>PAIDOFF</td>\n      <td>1000</td>\n      <td>30</td>\n      <td>9/9/2016</td>\n      <td>10/8/2016</td>\n      <td>28</td>\n      <td>college</td>\n      <td>female</td>\n    </tr>\n    <tr>\n      <th>4</th>\n      <td>6</td>\n      <td>6</td>\n      <td>PAIDOFF</td>\n      <td>1000</td>\n      <td>30</td>\n      <td>9/9/2016</td>\n      <td>10/8/2016</td>\n      <td>29</td>\n      <td>college</td>\n      <td>male</td>\n    </tr>\n  </tbody>\n</table>\n</div>", 
                        "text/plain": "   Unnamed: 0  Unnamed: 0.1 loan_status  Principal  terms effective_date  \\\n0           0             0     PAIDOFF       1000     30       9/8/2016   \n1           2             2     PAIDOFF       1000     30       9/8/2016   \n2           3             3     PAIDOFF       1000     15       9/8/2016   \n3           4             4     PAIDOFF       1000     30       9/9/2016   \n4           6             6     PAIDOFF       1000     30       9/9/2016   \n\n    due_date  age             education  Gender  \n0  10/7/2016   45  High School or Below    male  \n1  10/7/2016   33              Bechalor  female  \n2  9/22/2016   27               college    male  \n3  10/8/2016   28               college  female  \n4  10/8/2016   29               college    male  "
                    }, 
                    "execution_count": 4
                }
            ], 
            "metadata": {}
        }, 
        {
            "source": "# date time object conversion:", 
            "cell_type": "markdown", 
            "metadata": {}
        }, 
        {
            "source": "df['due_date'] = pd.to_datetime(df['due_date'])\ndf['effective_date'] = pd.to_datetime(df['effective_date'])\ndf.head()", 
            "cell_type": "code", 
            "execution_count": 5, 
            "outputs": [
                {
                    "output_type": "execute_result", 
                    "metadata": {}, 
                    "data": {
                        "text/html": "<div>\n<style scoped>\n    .dataframe tbody tr th:only-of-type {\n        vertical-align: middle;\n    }\n\n    .dataframe tbody tr th {\n        vertical-align: top;\n    }\n\n    .dataframe thead th {\n        text-align: right;\n    }\n</style>\n<table border=\"1\" class=\"dataframe\">\n  <thead>\n    <tr style=\"text-align: right;\">\n      <th></th>\n      <th>Unnamed: 0</th>\n      <th>Unnamed: 0.1</th>\n      <th>loan_status</th>\n      <th>Principal</th>\n      <th>terms</th>\n      <th>effective_date</th>\n      <th>due_date</th>\n      <th>age</th>\n      <th>education</th>\n      <th>Gender</th>\n    </tr>\n  </thead>\n  <tbody>\n    <tr>\n      <th>0</th>\n      <td>0</td>\n      <td>0</td>\n      <td>PAIDOFF</td>\n      <td>1000</td>\n      <td>30</td>\n      <td>2016-09-08</td>\n      <td>2016-10-07</td>\n      <td>45</td>\n      <td>High School or Below</td>\n      <td>male</td>\n    </tr>\n    <tr>\n      <th>1</th>\n      <td>2</td>\n      <td>2</td>\n      <td>PAIDOFF</td>\n      <td>1000</td>\n      <td>30</td>\n      <td>2016-09-08</td>\n      <td>2016-10-07</td>\n      <td>33</td>\n      <td>Bechalor</td>\n      <td>female</td>\n    </tr>\n    <tr>\n      <th>2</th>\n      <td>3</td>\n      <td>3</td>\n      <td>PAIDOFF</td>\n      <td>1000</td>\n      <td>15</td>\n      <td>2016-09-08</td>\n      <td>2016-09-22</td>\n      <td>27</td>\n      <td>college</td>\n      <td>male</td>\n    </tr>\n    <tr>\n      <th>3</th>\n      <td>4</td>\n      <td>4</td>\n      <td>PAIDOFF</td>\n      <td>1000</td>\n      <td>30</td>\n      <td>2016-09-09</td>\n      <td>2016-10-08</td>\n      <td>28</td>\n      <td>college</td>\n      <td>female</td>\n    </tr>\n    <tr>\n      <th>4</th>\n      <td>6</td>\n      <td>6</td>\n      <td>PAIDOFF</td>\n      <td>1000</td>\n      <td>30</td>\n      <td>2016-09-09</td>\n      <td>2016-10-08</td>\n      <td>29</td>\n      <td>college</td>\n      <td>male</td>\n    </tr>\n  </tbody>\n</table>\n</div>", 
                        "text/plain": "   Unnamed: 0  Unnamed: 0.1 loan_status  Principal  terms effective_date  \\\n0           0             0     PAIDOFF       1000     30     2016-09-08   \n1           2             2     PAIDOFF       1000     30     2016-09-08   \n2           3             3     PAIDOFF       1000     15     2016-09-08   \n3           4             4     PAIDOFF       1000     30     2016-09-09   \n4           6             6     PAIDOFF       1000     30     2016-09-09   \n\n    due_date  age             education  Gender  \n0 2016-10-07   45  High School or Below    male  \n1 2016-10-07   33              Bechalor  female  \n2 2016-09-22   27               college    male  \n3 2016-10-08   28               college  female  \n4 2016-10-08   29               college    male  "
                    }, 
                    "execution_count": 5
                }
            ], 
            "metadata": {}
        }, 
        {
            "source": "# Data pre-processing", 
            "cell_type": "markdown", 
            "metadata": {}
        }, 
        {
            "source": "df['loan_status'].value_counts()", 
            "cell_type": "code", 
            "execution_count": 6, 
            "outputs": [
                {
                    "output_type": "execute_result", 
                    "metadata": {}, 
                    "data": {
                        "text/plain": "PAIDOFF       260\nCOLLECTION     86\nName: loan_status, dtype: int64"
                    }, 
                    "execution_count": 6
                }
            ], 
            "metadata": {}
        }, 
        {
            "source": "## conclusion 1: 260 people out of 346 has paid off their loans.", 
            "cell_type": "markdown", 
            "metadata": {}
        }, 
        {
            "source": "import seaborn as sns\nsns.set_style('whitegrid')\nsns.set_palette('rainbow')", 
            "cell_type": "code", 
            "execution_count": 7, 
            "outputs": [], 
            "metadata": {}
        }, 
        {
            "source": "bins = np.linspace(df.Principal.min(), df.Principal.max(), 10)\ng = sns.FacetGrid(df, col=\"Gender\", hue=\"loan_status\",  col_wrap=2)\ng.map(plt.hist, 'Principal', bins=bins, ec=\"k\")\n\ng.axes[-1].legend()\nplt.show()", 
            "cell_type": "code", 
            "execution_count": 8, 
            "outputs": [
                {
                    "output_type": "display_data", 
                    "data": {
                        "image/png": "[encoded data removed]", 
                        "text/plain": "<Figure size 432x216 with 2 Axes>"
                    }, 
                    "metadata": {}
                }
            ], 
            "metadata": {}
        }, 
        {
            "source": "bins = np.linspace(df.age.min(), df.age.max(), 10)\ng = sns.FacetGrid(df, col=\"Gender\", hue=\"loan_status\", col_wrap=2)\ng.map(plt.hist, 'age', bins=bins, ec=\"k\")\n\ng.axes[-1].legend()\nplt.show()", 
            "cell_type": "code", 
            "execution_count": 9, 
            "outputs": [
                {
                    "output_type": "display_data", 
                    "data": {
                        "image/png": "[encoded data removed]", 
                        "text/plain": "<Figure size 432x216 with 2 Axes>"
                    }, 
                    "metadata": {}
                }
            ], 
            "metadata": {}
        }, 
        {
            "source": "## Day of the week people get loans:", 
            "cell_type": "markdown", 
            "metadata": {}
        }, 
        {
            "source": "df['dayofweek'] = df['effective_date'].dt.dayofweek\nbins = np.linspace(df.dayofweek.min(), df.dayofweek.max(), 10)\ng = sns.FacetGrid(df, col=\"Gender\", hue=\"loan_status\",  col_wrap=2)\ng.map(plt.hist, 'dayofweek', bins=bins, ec=\"k\")\ng.axes[-1].legend()\nplt.show()", 
            "cell_type": "code", 
            "execution_count": 10, 
            "outputs": [
                {
                    "output_type": "display_data", 
                    "data": {
                        "image/png": "[encoded data removed]", 
                        "text/plain": "<Figure size 432x216 with 2 Axes>"
                    }, 
                    "metadata": {}
                }
            ], 
            "metadata": {}
        }, 
        {
            "source": "## conclusion 2: People who get loans after 3 days of the start of the week,does not pay off the loans.", 
            "cell_type": "markdown", 
            "metadata": {}
        }, 
        {
            "source": "## binarization", 
            "cell_type": "markdown", 
            "metadata": {}
        }, 
        {
            "source": "df['lastdays'] = df['dayofweek'].apply(lambda x: 1 if (x>3)  else 0)\ndf.head()", 
            "cell_type": "code", 
            "execution_count": 11, 
            "outputs": [
                {
                    "output_type": "execute_result", 
                    "metadata": {}, 
                    "data": {
                        "text/html": "<div>\n<style scoped>\n    .dataframe tbody tr th:only-of-type {\n        vertical-align: middle;\n    }\n\n    .dataframe tbody tr th {\n        vertical-align: top;\n    }\n\n    .dataframe thead th {\n        text-align: right;\n    }\n</style>\n<table border=\"1\" class=\"dataframe\">\n  <thead>\n    <tr style=\"text-align: right;\">\n      <th></th>\n      <th>Unnamed: 0</th>\n      <th>Unnamed: 0.1</th>\n      <th>loan_status</th>\n      <th>Principal</th>\n      <th>terms</th>\n      <th>effective_date</th>\n      <th>due_date</th>\n      <th>age</th>\n      <th>education</th>\n      <th>Gender</th>\n      <th>dayofweek</th>\n      <th>lastdays</th>\n    </tr>\n  </thead>\n  <tbody>\n    <tr>\n      <th>0</th>\n      <td>0</td>\n      <td>0</td>\n      <td>PAIDOFF</td>\n      <td>1000</td>\n      <td>30</td>\n      <td>2016-09-08</td>\n      <td>2016-10-07</td>\n      <td>45</td>\n      <td>High School or Below</td>\n      <td>male</td>\n      <td>3</td>\n      <td>0</td>\n    </tr>\n    <tr>\n      <th>1</th>\n      <td>2</td>\n      <td>2</td>\n      <td>PAIDOFF</td>\n      <td>1000</td>\n      <td>30</td>\n      <td>2016-09-08</td>\n      <td>2016-10-07</td>\n      <td>33</td>\n      <td>Bechalor</td>\n      <td>female</td>\n      <td>3</td>\n      <td>0</td>\n    </tr>\n    <tr>\n      <th>2</th>\n      <td>3</td>\n      <td>3</td>\n      <td>PAIDOFF</td>\n      <td>1000</td>\n      <td>15</td>\n      <td>2016-09-08</td>\n      <td>2016-09-22</td>\n      <td>27</td>\n      <td>college</td>\n      <td>male</td>\n      <td>3</td>\n      <td>0</td>\n    </tr>\n    <tr>\n      <th>3</th>\n      <td>4</td>\n      <td>4</td>\n      <td>PAIDOFF</td>\n      <td>1000</td>\n      <td>30</td>\n      <td>2016-09-09</td>\n      <td>2016-10-08</td>\n      <td>28</td>\n      <td>college</td>\n      <td>female</td>\n      <td>4</td>\n      <td>1</td>\n    </tr>\n    <tr>\n      <th>4</th>\n      <td>6</td>\n      <td>6</td>\n      <td>PAIDOFF</td>\n      <td>1000</td>\n      <td>30</td>\n      <td>2016-09-09</td>\n      <td>2016-10-08</td>\n      <td>29</td>\n      <td>college</td>\n      <td>male</td>\n      <td>4</td>\n      <td>1</td>\n    </tr>\n  </tbody>\n</table>\n</div>", 
                        "text/plain": "   Unnamed: 0  Unnamed: 0.1 loan_status  Principal  terms effective_date  \\\n0           0             0     PAIDOFF       1000     30     2016-09-08   \n1           2             2     PAIDOFF       1000     30     2016-09-08   \n2           3             3     PAIDOFF       1000     15     2016-09-08   \n3           4             4     PAIDOFF       1000     30     2016-09-09   \n4           6             6     PAIDOFF       1000     30     2016-09-09   \n\n    due_date  age             education  Gender  dayofweek  lastdays  \n0 2016-10-07   45  High School or Below    male          3         0  \n1 2016-10-07   33              Bechalor  female          3         0  \n2 2016-09-22   27               college    male          3         0  \n3 2016-10-08   28               college  female          4         1  \n4 2016-10-08   29               college    male          4         1  "
                    }, 
                    "execution_count": 11
                }
            ], 
            "metadata": {}
        }, 
        {
            "source": "df.groupby(['Gender'])['loan_status'].value_counts(normalize=True)", 
            "cell_type": "code", 
            "execution_count": 12, 
            "outputs": [
                {
                    "output_type": "execute_result", 
                    "metadata": {}, 
                    "data": {
                        "text/plain": "Gender  loan_status\nfemale  PAIDOFF        0.865385\n        COLLECTION     0.134615\nmale    PAIDOFF        0.731293\n        COLLECTION     0.268707\nName: loan_status, dtype: float64"
                    }, 
                    "execution_count": 12
                }
            ], 
            "metadata": {}
        }, 
        {
            "source": "## conclusion 3: women pays off loan,most of the times(86%)", 
            "cell_type": "markdown", 
            "metadata": {}
        }, 
        {
            "source": "df['Gender'] = df.Gender.map({'male':1, 'female':0})\ndf.head()", 
            "cell_type": "code", 
            "execution_count": 13, 
            "outputs": [
                {
                    "output_type": "execute_result", 
                    "metadata": {}, 
                    "data": {
                        "text/html": "<div>\n<style scoped>\n    .dataframe tbody tr th:only-of-type {\n        vertical-align: middle;\n    }\n\n    .dataframe tbody tr th {\n        vertical-align: top;\n    }\n\n    .dataframe thead th {\n        text-align: right;\n    }\n</style>\n<table border=\"1\" class=\"dataframe\">\n  <thead>\n    <tr style=\"text-align: right;\">\n      <th></th>\n      <th>Unnamed: 0</th>\n      <th>Unnamed: 0.1</th>\n      <th>loan_status</th>\n      <th>Principal</th>\n      <th>terms</th>\n      <th>effective_date</th>\n      <th>due_date</th>\n      <th>age</th>\n      <th>education</th>\n      <th>Gender</th>\n      <th>dayofweek</th>\n      <th>lastdays</th>\n    </tr>\n  </thead>\n  <tbody>\n    <tr>\n      <th>0</th>\n      <td>0</td>\n      <td>0</td>\n      <td>PAIDOFF</td>\n      <td>1000</td>\n      <td>30</td>\n      <td>2016-09-08</td>\n      <td>2016-10-07</td>\n      <td>45</td>\n      <td>High School or Below</td>\n      <td>1</td>\n      <td>3</td>\n      <td>0</td>\n    </tr>\n    <tr>\n      <th>1</th>\n      <td>2</td>\n      <td>2</td>\n      <td>PAIDOFF</td>\n      <td>1000</td>\n      <td>30</td>\n      <td>2016-09-08</td>\n      <td>2016-10-07</td>\n      <td>33</td>\n      <td>Bechalor</td>\n      <td>0</td>\n      <td>3</td>\n      <td>0</td>\n    </tr>\n    <tr>\n      <th>2</th>\n      <td>3</td>\n      <td>3</td>\n      <td>PAIDOFF</td>\n      <td>1000</td>\n      <td>15</td>\n      <td>2016-09-08</td>\n      <td>2016-09-22</td>\n      <td>27</td>\n      <td>college</td>\n      <td>1</td>\n      <td>3</td>\n      <td>0</td>\n    </tr>\n    <tr>\n      <th>3</th>\n      <td>4</td>\n      <td>4</td>\n      <td>PAIDOFF</td>\n      <td>1000</td>\n      <td>30</td>\n      <td>2016-09-09</td>\n      <td>2016-10-08</td>\n      <td>28</td>\n      <td>college</td>\n      <td>0</td>\n      <td>4</td>\n      <td>1</td>\n    </tr>\n    <tr>\n      <th>4</th>\n      <td>6</td>\n      <td>6</td>\n      <td>PAIDOFF</td>\n      <td>1000</td>\n      <td>30</td>\n      <td>2016-09-09</td>\n      <td>2016-10-08</td>\n      <td>29</td>\n      <td>college</td>\n      <td>1</td>\n      <td>4</td>\n      <td>1</td>\n    </tr>\n  </tbody>\n</table>\n</div>", 
                        "text/plain": "   Unnamed: 0  Unnamed: 0.1 loan_status  Principal  terms effective_date  \\\n0           0             0     PAIDOFF       1000     30     2016-09-08   \n1           2             2     PAIDOFF       1000     30     2016-09-08   \n2           3             3     PAIDOFF       1000     15     2016-09-08   \n3           4             4     PAIDOFF       1000     30     2016-09-09   \n4           6             6     PAIDOFF       1000     30     2016-09-09   \n\n    due_date  age             education  Gender  dayofweek  lastdays  \n0 2016-10-07   45  High School or Below       1          3         0  \n1 2016-10-07   33              Bechalor       0          3         0  \n2 2016-09-22   27               college       1          3         0  \n3 2016-10-08   28               college       0          4         1  \n4 2016-10-08   29               college       1          4         1  "
                    }, 
                    "execution_count": 13
                }
            ], 
            "metadata": {}
        }, 
        {
            "source": "df.groupby(['education'])['loan_status'].value_counts(normalize=True)", 
            "cell_type": "code", 
            "execution_count": 14, 
            "outputs": [
                {
                    "output_type": "execute_result", 
                    "metadata": {}, 
                    "data": {
                        "text/plain": "education             loan_status\nBechalor              PAIDOFF        0.750000\n                      COLLECTION     0.250000\nHigh School or Below  PAIDOFF        0.741722\n                      COLLECTION     0.258278\nMaster or Above       COLLECTION     0.500000\n                      PAIDOFF        0.500000\ncollege               PAIDOFF        0.765101\n                      COLLECTION     0.234899\nName: loan_status, dtype: float64"
                    }, 
                    "execution_count": 14
                }
            ], 
            "metadata": {}
        }, 
        {
            "source": "## Master or above: 50% chance", 
            "cell_type": "markdown", 
            "metadata": {}
        }, 
        {
            "source": "# One hot encoding:(dummy variables)", 
            "cell_type": "markdown", 
            "metadata": {}
        }, 
        {
            "source": "\ndf[['Principal','terms','age','Gender','education']]", 
            "cell_type": "code", 
            "execution_count": 15, 
            "outputs": [
                {
                    "output_type": "execute_result", 
                    "metadata": {}, 
                    "data": {
                        "text/html": "<div>\n<style scoped>\n    .dataframe tbody tr th:only-of-type {\n        vertical-align: middle;\n    }\n\n    .dataframe tbody tr th {\n        vertical-align: top;\n    }\n\n    .dataframe thead th {\n        text-align: right;\n    }\n</style>\n<table border=\"1\" class=\"dataframe\">\n  <thead>\n    <tr style=\"text-align: right;\">\n      <th></th>\n      <th>Principal</th>\n      <th>terms</th>\n      <th>age</th>\n      <th>Gender</th>\n      <th>education</th>\n    </tr>\n  </thead>\n  <tbody>\n    <tr>\n      <th>0</th>\n      <td>1000</td>\n      <td>30</td>\n      <td>45</td>\n      <td>1</td>\n      <td>High School or Below</td>\n    </tr>\n    <tr>\n      <th>1</th>\n      <td>1000</td>\n      <td>30</td>\n      <td>33</td>\n      <td>0</td>\n      <td>Bechalor</td>\n    </tr>\n    <tr>\n      <th>2</th>\n      <td>1000</td>\n      <td>15</td>\n      <td>27</td>\n      <td>1</td>\n      <td>college</td>\n    </tr>\n    <tr>\n      <th>3</th>\n      <td>1000</td>\n      <td>30</td>\n      <td>28</td>\n      <td>0</td>\n      <td>college</td>\n    </tr>\n    <tr>\n      <th>4</th>\n      <td>1000</td>\n      <td>30</td>\n      <td>29</td>\n      <td>1</td>\n      <td>college</td>\n    </tr>\n    <tr>\n      <th>5</th>\n      <td>1000</td>\n      <td>30</td>\n      <td>36</td>\n      <td>1</td>\n      <td>college</td>\n    </tr>\n    <tr>\n      <th>6</th>\n      <td>1000</td>\n      <td>30</td>\n      <td>28</td>\n      <td>1</td>\n      <td>college</td>\n    </tr>\n    <tr>\n      <th>7</th>\n      <td>800</td>\n      <td>15</td>\n      <td>26</td>\n      <td>1</td>\n      <td>college</td>\n    </tr>\n    <tr>\n      <th>8</th>\n      <td>300</td>\n      <td>7</td>\n      <td>29</td>\n      <td>1</td>\n      <td>college</td>\n    </tr>\n    <tr>\n      <th>9</th>\n      <td>1000</td>\n      <td>15</td>\n      <td>39</td>\n      <td>1</td>\n      <td>High School or Below</td>\n    </tr>\n    <tr>\n      <th>10</th>\n      <td>1000</td>\n      <td>30</td>\n      <td>26</td>\n      <td>1</td>\n      <td>college</td>\n    </tr>\n    <tr>\n      <th>11</th>\n      <td>900</td>\n      <td>7</td>\n      <td>26</td>\n      <td>0</td>\n      <td>college</td>\n    </tr>\n    <tr>\n      <th>12</th>\n      <td>1000</td>\n      <td>7</td>\n      <td>27</td>\n      <td>1</td>\n      <td>High School or Below</td>\n    </tr>\n    <tr>\n      <th>13</th>\n      <td>800</td>\n      <td>15</td>\n      <td>26</td>\n      <td>1</td>\n      <td>college</td>\n    </tr>\n    <tr>\n      <th>14</th>\n      <td>1000</td>\n      <td>30</td>\n      <td>40</td>\n      <td>1</td>\n      <td>High School or Below</td>\n    </tr>\n    <tr>\n      <th>15</th>\n      <td>1000</td>\n      <td>15</td>\n      <td>32</td>\n      <td>1</td>\n      <td>High School or Below</td>\n    </tr>\n    <tr>\n      <th>16</th>\n      <td>1000</td>\n      <td>30</td>\n      <td>32</td>\n      <td>1</td>\n      <td>High School or Below</td>\n    </tr>\n    <tr>\n      <th>17</th>\n      <td>800</td>\n      <td>30</td>\n      <td>26</td>\n      <td>1</td>\n      <td>college</td>\n    </tr>\n    <tr>\n      <th>18</th>\n      <td>1000</td>\n      <td>30</td>\n      <td>26</td>\n      <td>1</td>\n      <td>college</td>\n    </tr>\n    <tr>\n      <th>19</th>\n      <td>1000</td>\n      <td>30</td>\n      <td>25</td>\n      <td>1</td>\n      <td>High School or Below</td>\n    </tr>\n    <tr>\n      <th>20</th>\n      <td>1000</td>\n      <td>15</td>\n      <td>26</td>\n      <td>1</td>\n      <td>college</td>\n    </tr>\n    <tr>\n      <th>21</th>\n      <td>1000</td>\n      <td>30</td>\n      <td>29</td>\n      <td>1</td>\n      <td>High School or Below</td>\n    </tr>\n    <tr>\n      <th>22</th>\n      <td>800</td>\n      <td>15</td>\n      <td>39</td>\n      <td>1</td>\n      <td>Bechalor</td>\n    </tr>\n    <tr>\n      <th>23</th>\n      <td>1000</td>\n      <td>15</td>\n      <td>34</td>\n      <td>1</td>\n      <td>Bechalor</td>\n    </tr>\n    <tr>\n      <th>24</th>\n      <td>1000</td>\n      <td>30</td>\n      <td>31</td>\n      <td>1</td>\n      <td>college</td>\n    </tr>\n    <tr>\n      <th>25</th>\n      <td>1000</td>\n      <td>30</td>\n      <td>33</td>\n      <td>1</td>\n      <td>college</td>\n    </tr>\n    <tr>\n      <th>26</th>\n      <td>800</td>\n      <td>15</td>\n      <td>33</td>\n      <td>1</td>\n      <td>High School or Below</td>\n    </tr>\n    <tr>\n      <th>27</th>\n      <td>1000</td>\n      <td>30</td>\n      <td>37</td>\n      <td>1</td>\n      <td>college</td>\n    </tr>\n    <tr>\n      <th>28</th>\n      <td>1000</td>\n      <td>30</td>\n      <td>27</td>\n      <td>1</td>\n      <td>college</td>\n    </tr>\n    <tr>\n      <th>29</th>\n      <td>1000</td>\n      <td>30</td>\n      <td>37</td>\n      <td>1</td>\n      <td>college</td>\n    </tr>\n    <tr>\n      <th>...</th>\n      <td>...</td>\n      <td>...</td>\n      <td>...</td>\n      <td>...</td>\n      <td>...</td>\n    </tr>\n    <tr>\n      <th>316</th>\n      <td>800</td>\n      <td>15</td>\n      <td>28</td>\n      <td>1</td>\n      <td>Bechalor</td>\n    </tr>\n    <tr>\n      <th>317</th>\n      <td>1000</td>\n      <td>30</td>\n      <td>24</td>\n      <td>1</td>\n      <td>college</td>\n    </tr>\n    <tr>\n      <th>318</th>\n      <td>1000</td>\n      <td>30</td>\n      <td>18</td>\n      <td>1</td>\n      <td>college</td>\n    </tr>\n    <tr>\n      <th>319</th>\n      <td>800</td>\n      <td>15</td>\n      <td>25</td>\n      <td>1</td>\n      <td>High School or Below</td>\n    </tr>\n    <tr>\n      <th>320</th>\n      <td>1000</td>\n      <td>15</td>\n      <td>40</td>\n      <td>1</td>\n      <td>High School or Below</td>\n    </tr>\n    <tr>\n      <th>321</th>\n      <td>1000</td>\n      <td>30</td>\n      <td>29</td>\n      <td>1</td>\n      <td>college</td>\n    </tr>\n    <tr>\n      <th>322</th>\n      <td>800</td>\n      <td>15</td>\n      <td>26</td>\n      <td>0</td>\n      <td>High School or Below</td>\n    </tr>\n    <tr>\n      <th>323</th>\n      <td>1000</td>\n      <td>15</td>\n      <td>30</td>\n      <td>1</td>\n      <td>college</td>\n    </tr>\n    <tr>\n      <th>324</th>\n      <td>1000</td>\n      <td>30</td>\n      <td>33</td>\n      <td>1</td>\n      <td>college</td>\n    </tr>\n    <tr>\n      <th>325</th>\n      <td>1000</td>\n      <td>30</td>\n      <td>30</td>\n      <td>1</td>\n      <td>college</td>\n    </tr>\n    <tr>\n      <th>326</th>\n      <td>1000</td>\n      <td>30</td>\n      <td>32</td>\n      <td>1</td>\n      <td>college</td>\n    </tr>\n    <tr>\n      <th>327</th>\n      <td>1000</td>\n      <td>30</td>\n      <td>25</td>\n      <td>1</td>\n      <td>High School or Below</td>\n    </tr>\n    <tr>\n      <th>328</th>\n      <td>800</td>\n      <td>15</td>\n      <td>35</td>\n      <td>1</td>\n      <td>High School or Below</td>\n    </tr>\n    <tr>\n      <th>329</th>\n      <td>1000</td>\n      <td>15</td>\n      <td>30</td>\n      <td>1</td>\n      <td>Bechalor</td>\n    </tr>\n    <tr>\n      <th>330</th>\n      <td>1000</td>\n      <td>30</td>\n      <td>26</td>\n      <td>1</td>\n      <td>High School or Below</td>\n    </tr>\n    <tr>\n      <th>331</th>\n      <td>1000</td>\n      <td>30</td>\n      <td>29</td>\n      <td>1</td>\n      <td>High School or Below</td>\n    </tr>\n    <tr>\n      <th>332</th>\n      <td>1000</td>\n      <td>30</td>\n      <td>26</td>\n      <td>1</td>\n      <td>High School or Below</td>\n    </tr>\n    <tr>\n      <th>333</th>\n      <td>800</td>\n      <td>15</td>\n      <td>46</td>\n      <td>1</td>\n      <td>High School or Below</td>\n    </tr>\n    <tr>\n      <th>334</th>\n      <td>1000</td>\n      <td>30</td>\n      <td>36</td>\n      <td>1</td>\n      <td>High School or Below</td>\n    </tr>\n    <tr>\n      <th>335</th>\n      <td>1000</td>\n      <td>15</td>\n      <td>38</td>\n      <td>1</td>\n      <td>Bechalor</td>\n    </tr>\n    <tr>\n      <th>336</th>\n      <td>1000</td>\n      <td>15</td>\n      <td>32</td>\n      <td>1</td>\n      <td>High School or Below</td>\n    </tr>\n    <tr>\n      <th>337</th>\n      <td>1000</td>\n      <td>15</td>\n      <td>30</td>\n      <td>1</td>\n      <td>college</td>\n    </tr>\n    <tr>\n      <th>338</th>\n      <td>800</td>\n      <td>15</td>\n      <td>35</td>\n      <td>1</td>\n      <td>High School or Below</td>\n    </tr>\n    <tr>\n      <th>339</th>\n      <td>1000</td>\n      <td>30</td>\n      <td>29</td>\n      <td>0</td>\n      <td>college</td>\n    </tr>\n    <tr>\n      <th>340</th>\n      <td>1000</td>\n      <td>30</td>\n      <td>26</td>\n      <td>1</td>\n      <td>college</td>\n    </tr>\n    <tr>\n      <th>341</th>\n      <td>800</td>\n      <td>15</td>\n      <td>32</td>\n      <td>1</td>\n      <td>High School or Below</td>\n    </tr>\n    <tr>\n      <th>342</th>\n      <td>1000</td>\n      <td>30</td>\n      <td>25</td>\n      <td>1</td>\n      <td>High School or Below</td>\n    </tr>\n    <tr>\n      <th>343</th>\n      <td>800</td>\n      <td>15</td>\n      <td>39</td>\n      <td>1</td>\n      <td>college</td>\n    </tr>\n    <tr>\n      <th>344</th>\n      <td>1000</td>\n      <td>30</td>\n      <td>28</td>\n      <td>1</td>\n      <td>college</td>\n    </tr>\n    <tr>\n      <th>345</th>\n      <td>1000</td>\n      <td>30</td>\n      <td>26</td>\n      <td>1</td>\n      <td>college</td>\n    </tr>\n  </tbody>\n</table>\n<p>346 rows \u00d7 5 columns</p>\n</div>", 
                        "text/plain": "     Principal  terms  age  Gender             education\n0         1000     30   45       1  High School or Below\n1         1000     30   33       0              Bechalor\n2         1000     15   27       1               college\n3         1000     30   28       0               college\n4         1000     30   29       1               college\n5         1000     30   36       1               college\n6         1000     30   28       1               college\n7          800     15   26       1               college\n8          300      7   29       1               college\n9         1000     15   39       1  High School or Below\n10        1000     30   26       1               college\n11         900      7   26       0               college\n12        1000      7   27       1  High School or Below\n13         800     15   26       1               college\n14        1000     30   40       1  High School or Below\n15        1000     15   32       1  High School or Below\n16        1000     30   32       1  High School or Below\n17         800     30   26       1               college\n18        1000     30   26       1               college\n19        1000     30   25       1  High School or Below\n20        1000     15   26       1               college\n21        1000     30   29       1  High School or Below\n22         800     15   39       1              Bechalor\n23        1000     15   34       1              Bechalor\n24        1000     30   31       1               college\n25        1000     30   33       1               college\n26         800     15   33       1  High School or Below\n27        1000     30   37       1               college\n28        1000     30   27       1               college\n29        1000     30   37       1               college\n..         ...    ...  ...     ...                   ...\n316        800     15   28       1              Bechalor\n317       1000     30   24       1               college\n318       1000     30   18       1               college\n319        800     15   25       1  High School or Below\n320       1000     15   40       1  High School or Below\n321       1000     30   29       1               college\n322        800     15   26       0  High School or Below\n323       1000     15   30       1               college\n324       1000     30   33       1               college\n325       1000     30   30       1               college\n326       1000     30   32       1               college\n327       1000     30   25       1  High School or Below\n328        800     15   35       1  High School or Below\n329       1000     15   30       1              Bechalor\n330       1000     30   26       1  High School or Below\n331       1000     30   29       1  High School or Below\n332       1000     30   26       1  High School or Below\n333        800     15   46       1  High School or Below\n334       1000     30   36       1  High School or Below\n335       1000     15   38       1              Bechalor\n336       1000     15   32       1  High School or Below\n337       1000     15   30       1               college\n338        800     15   35       1  High School or Below\n339       1000     30   29       0               college\n340       1000     30   26       1               college\n341        800     15   32       1  High School or Below\n342       1000     30   25       1  High School or Below\n343        800     15   39       1               college\n344       1000     30   28       1               college\n345       1000     30   26       1               college\n\n[346 rows x 5 columns]"
                    }, 
                    "execution_count": 15
                }
            ], 
            "metadata": {}
        }, 
        {
            "source": "Feature = df[['Principal','terms','age','Gender','lastdays']]\nFeature = pd.concat([Feature,pd.get_dummies(df['education'])], axis=1)\nFeature.drop(['Master or Above'], axis = 1,inplace=True)\nFeature.head()", 
            "cell_type": "code", 
            "execution_count": 16, 
            "outputs": [
                {
                    "output_type": "execute_result", 
                    "metadata": {}, 
                    "data": {
                        "text/html": "<div>\n<style scoped>\n    .dataframe tbody tr th:only-of-type {\n        vertical-align: middle;\n    }\n\n    .dataframe tbody tr th {\n        vertical-align: top;\n    }\n\n    .dataframe thead th {\n        text-align: right;\n    }\n</style>\n<table border=\"1\" class=\"dataframe\">\n  <thead>\n    <tr style=\"text-align: right;\">\n      <th></th>\n      <th>Principal</th>\n      <th>terms</th>\n      <th>age</th>\n      <th>Gender</th>\n      <th>lastdays</th>\n      <th>Bechalor</th>\n      <th>High School or Below</th>\n      <th>college</th>\n    </tr>\n  </thead>\n  <tbody>\n    <tr>\n      <th>0</th>\n      <td>1000</td>\n      <td>30</td>\n      <td>45</td>\n      <td>1</td>\n      <td>0</td>\n      <td>0</td>\n      <td>1</td>\n      <td>0</td>\n    </tr>\n    <tr>\n      <th>1</th>\n      <td>1000</td>\n      <td>30</td>\n      <td>33</td>\n      <td>0</td>\n      <td>0</td>\n      <td>1</td>\n      <td>0</td>\n      <td>0</td>\n    </tr>\n    <tr>\n      <th>2</th>\n      <td>1000</td>\n      <td>15</td>\n      <td>27</td>\n      <td>1</td>\n      <td>0</td>\n      <td>0</td>\n      <td>0</td>\n      <td>1</td>\n    </tr>\n    <tr>\n      <th>3</th>\n      <td>1000</td>\n      <td>30</td>\n      <td>28</td>\n      <td>0</td>\n      <td>1</td>\n      <td>0</td>\n      <td>0</td>\n      <td>1</td>\n    </tr>\n    <tr>\n      <th>4</th>\n      <td>1000</td>\n      <td>30</td>\n      <td>29</td>\n      <td>1</td>\n      <td>1</td>\n      <td>0</td>\n      <td>0</td>\n      <td>1</td>\n    </tr>\n  </tbody>\n</table>\n</div>", 
                        "text/plain": "   Principal  terms  age  Gender  lastdays  Bechalor  High School or Below  \\\n0       1000     30   45       1         0         0                     1   \n1       1000     30   33       0         0         1                     0   \n2       1000     15   27       1         0         0                     0   \n3       1000     30   28       0         1         0                     0   \n4       1000     30   29       1         1         0                     0   \n\n   college  \n0        0  \n1        0  \n2        1  \n3        1  \n4        1  "
                    }, 
                    "execution_count": 16
                }
            ], 
            "metadata": {}
        }, 
        {
            "source": "## feature selection", 
            "cell_type": "markdown", 
            "metadata": {}
        }, 
        {
            "source": "X = Feature.values\nX[0:5]", 
            "cell_type": "code", 
            "execution_count": 17, 
            "outputs": [
                {
                    "output_type": "execute_result", 
                    "metadata": {}, 
                    "data": {
                        "text/plain": "array([[1000,   30,   45,    1,    0,    0,    1,    0],\n       [1000,   30,   33,    0,    0,    1,    0,    0],\n       [1000,   15,   27,    1,    0,    0,    0,    1],\n       [1000,   30,   28,    0,    1,    0,    0,    1],\n       [1000,   30,   29,    1,    1,    0,    0,    1]])"
                    }, 
                    "execution_count": 17
                }
            ], 
            "metadata": {}
        }, 
        {
            "source": "y = df['loan_status'].values\ny[0:5]", 
            "cell_type": "code", 
            "execution_count": 18, 
            "outputs": [
                {
                    "output_type": "execute_result", 
                    "metadata": {}, 
                    "data": {
                        "text/plain": "array(['PAIDOFF', 'PAIDOFF', 'PAIDOFF', 'PAIDOFF', 'PAIDOFF'],\n      dtype=object)"
                    }, 
                    "execution_count": 18
                }
            ], 
            "metadata": {}
        }, 
        {
            "source": "set(y)", 
            "cell_type": "code", 
            "execution_count": 19, 
            "outputs": [
                {
                    "output_type": "execute_result", 
                    "metadata": {}, 
                    "data": {
                        "text/plain": "{'COLLECTION', 'PAIDOFF'}"
                    }, 
                    "execution_count": 19
                }
            ], 
            "metadata": {}
        }, 
        {
            "source": "X.shape", 
            "cell_type": "code", 
            "execution_count": 20, 
            "outputs": [
                {
                    "output_type": "execute_result", 
                    "metadata": {}, 
                    "data": {
                        "text/plain": "(346, 8)"
                    }, 
                    "execution_count": 20
                }
            ], 
            "metadata": {}
        }, 
        {
            "source": "## Data normalization:", 
            "cell_type": "markdown", 
            "metadata": {}
        }, 
        {
            "source": "X = preprocessing.StandardScaler().fit_transform(X)\nX[0:5]", 
            "cell_type": "code", 
            "execution_count": 21, 
            "outputs": [
                {
                    "output_type": "stream", 
                    "name": "stderr", 
                    "text": "/opt/conda/envs/Python36/lib/python3.6/site-packages/sklearn/utils/validation.py:595: DataConversionWarning: Data with input dtype int64 was converted to float64 by StandardScaler.\n  warnings.warn(msg, DataConversionWarning)\n/opt/conda/envs/Python36/lib/python3.6/site-packages/sklearn/utils/validation.py:595: DataConversionWarning: Data with input dtype int64 was converted to float64 by StandardScaler.\n  warnings.warn(msg, DataConversionWarning)\n"
                }, 
                {
                    "output_type": "execute_result", 
                    "metadata": {}, 
                    "data": {
                        "text/plain": "array([[ 0.51578458,  0.92071769,  2.33152555,  0.42056004, -1.20577805,\n        -0.38170062,  1.13639374, -0.86968108],\n       [ 0.51578458,  0.92071769,  0.34170148, -2.37778177, -1.20577805,\n         2.61985426, -0.87997669, -0.86968108],\n       [ 0.51578458, -0.95911111, -0.65321055,  0.42056004, -1.20577805,\n        -0.38170062, -0.87997669,  1.14984679],\n       [ 0.51578458,  0.92071769, -0.48739188, -2.37778177,  0.82934003,\n        -0.38170062, -0.87997669,  1.14984679],\n       [ 0.51578458,  0.92071769, -0.3215732 ,  0.42056004,  0.82934003,\n        -0.38170062, -0.87997669,  1.14984679]])"
                    }, 
                    "execution_count": 21
                }
            ], 
            "metadata": {}
        }, 
        {
            "source": "## Model building:classifier", 
            "cell_type": "markdown", 
            "metadata": {}
        }, 
        {
            "source": "## KNN ALGORITHM:", 
            "cell_type": "markdown", 
            "metadata": {}
        }, 
        {
            "source": "## Finding best k,by splitting the given train data set into test and train model!", 
            "cell_type": "markdown", 
            "metadata": {}
        }, 
        {
            "source": "from sklearn.model_selection import train_test_split as tts\n\nX_train, X_test, y_train, y_test = tts( X, y, test_size=0.2, random_state=4)\nprint ('Train set:', X_train.shape,  y_train.shape)\nprint ('Test set:', X_test.shape,  y_test.shape)", 
            "cell_type": "code", 
            "execution_count": 22, 
            "outputs": [
                {
                    "output_type": "stream", 
                    "name": "stdout", 
                    "text": "Train set: (276, 8) (276,)\nTest set: (70, 8) (70,)\n"
                }
            ], 
            "metadata": {}
        }, 
        {
            "source": "from sklearn.neighbors import KNeighborsClassifier as knn\nfrom sklearn.metrics import accuracy_score as a_score", 
            "cell_type": "code", 
            "execution_count": 23, 
            "outputs": [], 
            "metadata": {}
        }, 
        {
            "source": "Ks = 30\nmean_acc = np.zeros((Ks-1))\nstd_acc = np.zeros((Ks-1))\nConfustionMx = [];\nfor n in range(1,Ks):  \n    neigh = knn(n_neighbors = n).fit(X_train,y_train)\n    yhat=neigh.predict(X_test)\n    mean_acc[n-1] = a_score(y_test, yhat)\n\n    \n    std_acc[n-1]=np.std(yhat==y_test)/np.sqrt(yhat.shape[0])", 
            "cell_type": "code", 
            "execution_count": 24, 
            "outputs": [], 
            "metadata": {}
        }, 
        {
            "source": "plt.figure(figsize=(8,4))\nplt.plot(range(1,Ks),mean_acc,'co-', linewidth=2, markersize=8)\nplt.fill_between(range(1,Ks),mean_acc - 1 * std_acc, mean_acc + 1 * std_acc, alpha=0.10)\nplt.legend(('Accuracy ', '+/- std X 3'))\nplt.xlim(0.5,20.5)\nplt.xticks(range(1,30))\nplt.title('Finding the optimal $k$ with the elbow method', size=14)\nplt.ylabel('Accuracy ')\nplt.xlabel('Nr of neighbors (K)')\nplt.tight_layout()\nplt.show()", 
            "cell_type": "code", 
            "execution_count": 25, 
            "outputs": [
                {
                    "output_type": "display_data", 
                    "data": {
                        "image/png": "[encoded data removed]", 
                        "text/plain": "<Figure size 576x288 with 1 Axes>"
                    }, 
                    "metadata": {}
                }
            ], 
            "metadata": {}
        }, 
        {
            "source": "print( \"The best accuracy was with\", mean_acc.max(), \"with k=\", mean_acc.argmax()+1)", 
            "cell_type": "code", 
            "execution_count": 26, 
            "outputs": [
                {
                    "output_type": "stream", 
                    "name": "stdout", 
                    "text": "The best accuracy was with 0.7857142857142857 with k= 7\n"
                }
            ], 
            "metadata": {}
        }, 
        {
            "source": "## implement knn with k_value 7", 
            "cell_type": "markdown", 
            "metadata": {}
        }, 
        {
            "source": "kNN_model = knn(n_neighbors=7).fit(X_train,y_train)\nkNN_model", 
            "cell_type": "code", 
            "execution_count": 27, 
            "outputs": [
                {
                    "output_type": "execute_result", 
                    "metadata": {}, 
                    "data": {
                        "text/plain": "KNeighborsClassifier(algorithm='auto', leaf_size=30, metric='minkowski',\n           metric_params=None, n_jobs=None, n_neighbors=7, p=2,\n           weights='uniform')"
                    }, 
                    "execution_count": 27
                }
            ], 
            "metadata": {}
        }, 
        {
            "source": "yhat = kNN_model.predict(X_test)", 
            "cell_type": "code", 
            "execution_count": 28, 
            "outputs": [], 
            "metadata": {}
        }, 
        {
            "source": "print(\"Train set accuracy: \", a_score(y_train, kNN_model.predict(X_train)))\nprint(\"Test set accuracy: \", a_score(y_test, kNN_model.predict(X_test)))", 
            "cell_type": "code", 
            "execution_count": 29, 
            "outputs": [
                {
                    "output_type": "stream", 
                    "name": "stdout", 
                    "text": "Train set accuracy:  0.8079710144927537\nTest set accuracy:  0.7857142857142857\n"
                }
            ], 
            "metadata": {}
        }, 
        {
            "source": "from sklearn.metrics import f1_score, jaccard_similarity_score\nprint('F1 score: ', f1_score(y_test, kNN_model.predict(X_test), average='weighted'))\nprint('Jaccard similarity score: ', jaccard_similarity_score(y_test, kNN_model.predict(X_test)))", 
            "cell_type": "code", 
            "execution_count": 30, 
            "outputs": [
                {
                    "output_type": "stream", 
                    "name": "stdout", 
                    "text": "F1 score:  0.7766540244416351\nJaccard similarity score:  0.7857142857142857\n"
                }
            ], 
            "metadata": {}
        }, 
        {
            "source": "## Decision Tree algorithm: ", 
            "cell_type": "markdown", 
            "metadata": {}
        }, 
        {
            "source": "## Normalization is not required!", 
            "cell_type": "markdown", 
            "metadata": {}
        }, 
        {
            "source": "Xdt = Feature.values\nX_trainset, X_testset, y_trainset, y_testset = tts(Xdt, y, test_size=0.2, random_state=3)", 
            "cell_type": "code", 
            "execution_count": 31, 
            "outputs": [], 
            "metadata": {}
        }, 
        {
            "source": "## gridsearchCV", 
            "cell_type": "markdown", 
            "metadata": {}
        }, 
        {
            "source": "from sklearn.tree import DecisionTreeClassifier\nfrom sklearn.model_selection import GridSearchCV\nfrom sklearn.metrics import roc_auc_score\n\nparam_grid = {'max_depth': np.arange(3, 10), 'max_features':np.arange(2, 9), 'criterion':['gini','entropy']}\n\ngrid = GridSearchCV(DecisionTreeClassifier(), param_grid, cv=10, iid=False)\ngrid.fit(X_trainset, y_trainset)\nprint('Best params: {}'.format(grid.best_params_))\nprint('Best score: {}'.format(grid.best_score_))\nfinal_tree = grid.best_estimator_", 
            "cell_type": "code", 
            "execution_count": 32, 
            "outputs": [
                {
                    "output_type": "stream", 
                    "name": "stdout", 
                    "text": "Best params: {'criterion': 'gini', 'max_depth': 3, 'max_features': 3}\nBest score: 0.7646232439335888\n"
                }
            ], 
            "metadata": {}
        }, 
        {
            "source": "final_tree", 
            "cell_type": "code", 
            "execution_count": 33, 
            "outputs": [
                {
                    "output_type": "execute_result", 
                    "metadata": {}, 
                    "data": {
                        "text/plain": "DecisionTreeClassifier(class_weight=None, criterion='gini', max_depth=3,\n            max_features=3, max_leaf_nodes=None, min_impurity_decrease=0.0,\n            min_impurity_split=None, min_samples_leaf=1,\n            min_samples_split=2, min_weight_fraction_leaf=0.0,\n            presort=False, random_state=None, splitter='best')"
                    }, 
                    "execution_count": 33
                }
            ], 
            "metadata": {}
        }, 
        {
            "source": "from sklearn.metrics import accuracy_score\nprint(\"DecisionTrees's Accuracy: \", accuracy_score(y_testset, final_tree.predict(X_testset)))", 
            "cell_type": "code", 
            "execution_count": 34, 
            "outputs": [
                {
                    "output_type": "stream", 
                    "name": "stdout", 
                    "text": "DecisionTrees's Accuracy:  0.6714285714285714\n"
                }
            ], 
            "metadata": {}
        }, 
        {
            "source": "print('F1 score: ', f1_score(y_test, final_tree.predict(X_testset), average='weighted'))\nprint('Jaccard similarity score: ', jaccard_similarity_score(y_testset, final_tree.predict(X_testset)))", 
            "cell_type": "code", 
            "execution_count": 35, 
            "outputs": [
                {
                    "output_type": "stream", 
                    "name": "stdout", 
                    "text": "F1 score:  0.6914285714285714\nJaccard similarity score:  0.6714285714285714\n"
                }, 
                {
                    "output_type": "stream", 
                    "name": "stderr", 
                    "text": "/opt/conda/envs/Python36/lib/python3.6/site-packages/sklearn/metrics/classification.py:1143: UndefinedMetricWarning: F-score is ill-defined and being set to 0.0 in labels with no predicted samples.\n  'precision', 'predicted', average, warn_for)\n"
                }
            ], 
            "metadata": {}
        }, 
        {
            "source": "# Support Vector machines", 
            "cell_type": "markdown", 
            "metadata": {}
        }, 
        {
            "source": "from sklearn import svm\nfrom sklearn.model_selection import GridSearchCV\nX_train, X_test, y_train, y_test = tts( X, y, test_size=0.2, random_state=4)", 
            "cell_type": "code", 
            "execution_count": 36, 
            "outputs": [], 
            "metadata": {}
        }, 
        {
            "source": "Cs = [0.001, 0.01, 0.1, 1, 10]\ngammas = [0.001, 0.01, 0.1, 1, 1.1, 1.2]\nparam_grid = {'C': Cs, 'gamma' : gammas, 'kernel':['linear', 'rbf', 'sigmoid', 'poly']}\ngrid_svm = GridSearchCV(svm.SVC(), param_grid)\ngrid_svm.fit(X_train, y_train)\nbest_svm = grid_svm.best_estimator_\nyhat_svm = best_svm.predict(X_test)", 
            "cell_type": "code", 
            "execution_count": 37, 
            "outputs": [], 
            "metadata": {}
        }, 
        {
            "source": "best_svm", 
            "cell_type": "code", 
            "execution_count": 38, 
            "outputs": [
                {
                    "output_type": "execute_result", 
                    "metadata": {}, 
                    "data": {
                        "text/plain": "SVC(C=0.1, cache_size=200, class_weight=None, coef0=0.0,\n  decision_function_shape='ovr', degree=3, gamma=1.1, kernel='sigmoid',\n  max_iter=-1, probability=False, random_state=None, shrinking=True,\n  tol=0.001, verbose=False)"
                    }, 
                    "execution_count": 38
                }
            ], 
            "metadata": {}
        }, 
        {
            "source": "from sklearn.metrics import classification_report, confusion_matrix", 
            "cell_type": "code", 
            "execution_count": 39, 
            "outputs": [], 
            "metadata": {}
        }, 
        {
            "source": "from sklearn.metrics import classification_report, confusion_matrix", 
            "cell_type": "code", 
            "execution_count": 40, 
            "outputs": [], 
            "metadata": {}
        }, 
        {
            "source": "print('F1 score: ', f1_score(y_test, yhat_svm, average='weighted'))\nprint('Jaccard similarity score: ', jaccard_similarity_score(y_test, yhat_svm))", 
            "cell_type": "code", 
            "execution_count": 41, 
            "outputs": [
                {
                    "output_type": "stream", 
                    "name": "stdout", 
                    "text": "F1 score:  0.6545566502463055\nJaccard similarity score:  0.6857142857142857\n"
                }
            ], 
            "metadata": {}
        }, 
        {
            "source": "# Logistic Regression:", 
            "cell_type": "markdown", 
            "metadata": {}
        }, 
        {
            "source": "X_train, X_test, y_train, y_test = tts(X, y, test_size=0.2, random_state=4)", 
            "cell_type": "code", 
            "execution_count": 42, 
            "outputs": [], 
            "metadata": {}
        }, 
        {
            "source": "from sklearn.linear_model import LogisticRegression\ngrid={\"C\":[0.001, 0.01, 0.1, 1, 10, 100, 1000], \n      \"penalty\":[\"l1\",\"l2\"] \n     }\nlr=LogisticRegression()\nlogreg=GridSearchCV(lr,grid,cv=10)\nlogreg.fit(X_train,y_train)", 
            "cell_type": "code", 
            "execution_count": 43, 
            "outputs": [
                {
                    "output_type": "stream", 
                    "name": "stderr", 
                    "text": "/opt/conda/envs/Python36/lib/python3.6/site-packages/sklearn/svm/base.py:931: ConvergenceWarning: Liblinear failed to converge, increase the number of iterations.\n  \"the number of iterations.\", ConvergenceWarning)\n"
                }, 
                {
                    "output_type": "execute_result", 
                    "metadata": {}, 
                    "data": {
                        "text/plain": "GridSearchCV(cv=10, error_score='raise-deprecating',\n       estimator=LogisticRegression(C=1.0, class_weight=None, dual=False, fit_intercept=True,\n          intercept_scaling=1, max_iter=100, multi_class='warn',\n          n_jobs=None, penalty='l2', random_state=None, solver='warn',\n          tol=0.0001, verbose=0, warm_start=False),\n       fit_params=None, iid='warn', n_jobs=None,\n       param_grid={'C': [0.001, 0.01, 0.1, 1, 10, 100, 1000], 'penalty': ['l1', 'l2']},\n       pre_dispatch='2*n_jobs', refit=True, return_train_score='warn',\n       scoring=None, verbose=0)"
                    }, 
                    "execution_count": 43
                }
            ], 
            "metadata": {}
        }, 
        {
            "source": "best_lr = logreg.best_estimator_\nyhat_lr = logreg.predict(X_test)\nbest_lr", 
            "cell_type": "code", 
            "execution_count": 44, 
            "outputs": [
                {
                    "output_type": "execute_result", 
                    "metadata": {}, 
                    "data": {
                        "text/plain": "LogisticRegression(C=0.1, class_weight=None, dual=False, fit_intercept=True,\n          intercept_scaling=1, max_iter=100, multi_class='warn',\n          n_jobs=None, penalty='l1', random_state=None, solver='warn',\n          tol=0.0001, verbose=0, warm_start=False)"
                    }, 
                    "execution_count": 44
                }
            ], 
            "metadata": {}
        }, 
        {
            "source": "print('F1 score: ', f1_score(y_test, yhat_lr, average='weighted'))\nprint('Jaccard similarity score: ', jaccard_similarity_score(y_test, yhat_lr))", 
            "cell_type": "code", 
            "execution_count": 45, 
            "outputs": [
                {
                    "output_type": "stream", 
                    "name": "stdout", 
                    "text": "F1 score:  0.6914285714285714\nJaccard similarity score:  0.7857142857142857\n"
                }, 
                {
                    "output_type": "stream", 
                    "name": "stderr", 
                    "text": "/opt/conda/envs/Python36/lib/python3.6/site-packages/sklearn/metrics/classification.py:1143: UndefinedMetricWarning: F-score is ill-defined and being set to 0.0 in labels with no predicted samples.\n  'precision', 'predicted', average, warn_for)\n"
                }
            ], 
            "metadata": {}
        }, 
        {
            "source": "# Model Evaluvation:(test set)", 
            "cell_type": "markdown", 
            "metadata": {}
        }, 
        {
            "source": "from sklearn.metrics import jaccard_similarity_score\nfrom sklearn.metrics import f1_score\nfrom sklearn.metrics import log_loss", 
            "cell_type": "code", 
            "execution_count": 46, 
            "outputs": [], 
            "metadata": {}
        }, 
        {
            "source": "!wget -O loan_test.csv https://s3-api.us-geo.objectstorage.softlayer.net/cf-courses-data/CognitiveClass/ML0101ENv3/labs/loan_test.csv", 
            "cell_type": "code", 
            "execution_count": 47, 
            "outputs": [
                {
                    "output_type": "stream", 
                    "name": "stdout", 
                    "text": "--2019-10-02 20:21:26--  https://s3-api.us-geo.objectstorage.softlayer.net/cf-courses-data/CognitiveClass/ML0101ENv3/labs/loan_test.csv\nResolving s3-api.us-geo.objectstorage.softlayer.net (s3-api.us-geo.objectstorage.softlayer.net)... 67.228.254.193\nConnecting to s3-api.us-geo.objectstorage.softlayer.net (s3-api.us-geo.objectstorage.softlayer.net)|67.228.254.193|:443... connected.\nHTTP request sent, awaiting response... 200 OK\nLength: 3642 (3.6K) [text/csv]\nSaving to: \u2018loan_test.csv\u2019\n\n100%[======================================>] 3,642       --.-K/s   in 0s      \n\n2019-10-02 20:21:26 (398 MB/s) - \u2018loan_test.csv\u2019 saved [3642/3642]\n\n"
                }
            ], 
            "metadata": {}
        }, 
        {
            "source": "test_df = pd.read_csv('loan_test.csv')\ntest_df.head()", 
            "cell_type": "code", 
            "execution_count": 48, 
            "outputs": [
                {
                    "output_type": "execute_result", 
                    "metadata": {}, 
                    "data": {
                        "text/html": "<div>\n<style scoped>\n    .dataframe tbody tr th:only-of-type {\n        vertical-align: middle;\n    }\n\n    .dataframe tbody tr th {\n        vertical-align: top;\n    }\n\n    .dataframe thead th {\n        text-align: right;\n    }\n</style>\n<table border=\"1\" class=\"dataframe\">\n  <thead>\n    <tr style=\"text-align: right;\">\n      <th></th>\n      <th>Unnamed: 0</th>\n      <th>Unnamed: 0.1</th>\n      <th>loan_status</th>\n      <th>Principal</th>\n      <th>terms</th>\n      <th>effective_date</th>\n      <th>due_date</th>\n      <th>age</th>\n      <th>education</th>\n      <th>Gender</th>\n    </tr>\n  </thead>\n  <tbody>\n    <tr>\n      <th>0</th>\n      <td>1</td>\n      <td>1</td>\n      <td>PAIDOFF</td>\n      <td>1000</td>\n      <td>30</td>\n      <td>9/8/2016</td>\n      <td>10/7/2016</td>\n      <td>50</td>\n      <td>Bechalor</td>\n      <td>female</td>\n    </tr>\n    <tr>\n      <th>1</th>\n      <td>5</td>\n      <td>5</td>\n      <td>PAIDOFF</td>\n      <td>300</td>\n      <td>7</td>\n      <td>9/9/2016</td>\n      <td>9/15/2016</td>\n      <td>35</td>\n      <td>Master or Above</td>\n      <td>male</td>\n    </tr>\n    <tr>\n      <th>2</th>\n      <td>21</td>\n      <td>21</td>\n      <td>PAIDOFF</td>\n      <td>1000</td>\n      <td>30</td>\n      <td>9/10/2016</td>\n      <td>10/9/2016</td>\n      <td>43</td>\n      <td>High School or Below</td>\n      <td>female</td>\n    </tr>\n    <tr>\n      <th>3</th>\n      <td>24</td>\n      <td>24</td>\n      <td>PAIDOFF</td>\n      <td>1000</td>\n      <td>30</td>\n      <td>9/10/2016</td>\n      <td>10/9/2016</td>\n      <td>26</td>\n      <td>college</td>\n      <td>male</td>\n    </tr>\n    <tr>\n      <th>4</th>\n      <td>35</td>\n      <td>35</td>\n      <td>PAIDOFF</td>\n      <td>800</td>\n      <td>15</td>\n      <td>9/11/2016</td>\n      <td>9/25/2016</td>\n      <td>29</td>\n      <td>Bechalor</td>\n      <td>male</td>\n    </tr>\n  </tbody>\n</table>\n</div>", 
                        "text/plain": "   Unnamed: 0  Unnamed: 0.1 loan_status  Principal  terms effective_date  \\\n0           1             1     PAIDOFF       1000     30       9/8/2016   \n1           5             5     PAIDOFF        300      7       9/9/2016   \n2          21            21     PAIDOFF       1000     30      9/10/2016   \n3          24            24     PAIDOFF       1000     30      9/10/2016   \n4          35            35     PAIDOFF        800     15      9/11/2016   \n\n    due_date  age             education  Gender  \n0  10/7/2016   50              Bechalor  female  \n1  9/15/2016   35       Master or Above    male  \n2  10/9/2016   43  High School or Below  female  \n3  10/9/2016   26               college    male  \n4  9/25/2016   29              Bechalor    male  "
                    }, 
                    "execution_count": 48
                }
            ], 
            "metadata": {}
        }, 
        {
            "source": "test_df['due_date'] = pd.to_datetime(test_df['due_date'])\ntest_df['effective_date'] = pd.to_datetime(test_df['effective_date'])\ntest_df['dayofweek'] = test_df['effective_date'].dt.dayofweek\ntest_df['lastdays'] = test_df['dayofweek'].apply(lambda x: 1 if (x>3)  else 0)", 
            "cell_type": "code", 
            "execution_count": 49, 
            "outputs": [], 
            "metadata": {}
        }, 
        {
            "source": "test_df.head()", 
            "cell_type": "code", 
            "execution_count": 50, 
            "outputs": [
                {
                    "output_type": "execute_result", 
                    "metadata": {}, 
                    "data": {
                        "text/html": "<div>\n<style scoped>\n    .dataframe tbody tr th:only-of-type {\n        vertical-align: middle;\n    }\n\n    .dataframe tbody tr th {\n        vertical-align: top;\n    }\n\n    .dataframe thead th {\n        text-align: right;\n    }\n</style>\n<table border=\"1\" class=\"dataframe\">\n  <thead>\n    <tr style=\"text-align: right;\">\n      <th></th>\n      <th>Unnamed: 0</th>\n      <th>Unnamed: 0.1</th>\n      <th>loan_status</th>\n      <th>Principal</th>\n      <th>terms</th>\n      <th>effective_date</th>\n      <th>due_date</th>\n      <th>age</th>\n      <th>education</th>\n      <th>Gender</th>\n      <th>dayofweek</th>\n      <th>lastdays</th>\n    </tr>\n  </thead>\n  <tbody>\n    <tr>\n      <th>0</th>\n      <td>1</td>\n      <td>1</td>\n      <td>PAIDOFF</td>\n      <td>1000</td>\n      <td>30</td>\n      <td>2016-09-08</td>\n      <td>2016-10-07</td>\n      <td>50</td>\n      <td>Bechalor</td>\n      <td>female</td>\n      <td>3</td>\n      <td>0</td>\n    </tr>\n    <tr>\n      <th>1</th>\n      <td>5</td>\n      <td>5</td>\n      <td>PAIDOFF</td>\n      <td>300</td>\n      <td>7</td>\n      <td>2016-09-09</td>\n      <td>2016-09-15</td>\n      <td>35</td>\n      <td>Master or Above</td>\n      <td>male</td>\n      <td>4</td>\n      <td>1</td>\n    </tr>\n    <tr>\n      <th>2</th>\n      <td>21</td>\n      <td>21</td>\n      <td>PAIDOFF</td>\n      <td>1000</td>\n      <td>30</td>\n      <td>2016-09-10</td>\n      <td>2016-10-09</td>\n      <td>43</td>\n      <td>High School or Below</td>\n      <td>female</td>\n      <td>5</td>\n      <td>1</td>\n    </tr>\n    <tr>\n      <th>3</th>\n      <td>24</td>\n      <td>24</td>\n      <td>PAIDOFF</td>\n      <td>1000</td>\n      <td>30</td>\n      <td>2016-09-10</td>\n      <td>2016-10-09</td>\n      <td>26</td>\n      <td>college</td>\n      <td>male</td>\n      <td>5</td>\n      <td>1</td>\n    </tr>\n    <tr>\n      <th>4</th>\n      <td>35</td>\n      <td>35</td>\n      <td>PAIDOFF</td>\n      <td>800</td>\n      <td>15</td>\n      <td>2016-09-11</td>\n      <td>2016-09-25</td>\n      <td>29</td>\n      <td>Bechalor</td>\n      <td>male</td>\n      <td>6</td>\n      <td>1</td>\n    </tr>\n  </tbody>\n</table>\n</div>", 
                        "text/plain": "   Unnamed: 0  Unnamed: 0.1 loan_status  Principal  terms effective_date  \\\n0           1             1     PAIDOFF       1000     30     2016-09-08   \n1           5             5     PAIDOFF        300      7     2016-09-09   \n2          21            21     PAIDOFF       1000     30     2016-09-10   \n3          24            24     PAIDOFF       1000     30     2016-09-10   \n4          35            35     PAIDOFF        800     15     2016-09-11   \n\n    due_date  age             education  Gender  dayofweek  lastdays  \n0 2016-10-07   50              Bechalor  female          3         0  \n1 2016-09-15   35       Master or Above    male          4         1  \n2 2016-10-09   43  High School or Below  female          5         1  \n3 2016-10-09   26               college    male          5         1  \n4 2016-09-25   29              Bechalor    male          6         1  "
                    }, 
                    "execution_count": 50
                }
            ], 
            "metadata": {}
        }, 
        {
            "source": "test_df = pd.concat([test_df,pd.get_dummies(test_df['education'])], axis=1)\ntest_df.drop(['Master or Above'], axis = 1,inplace=True)\ntest_df['Gender'] = test_df.Gender.map({'male':1, 'female':0})", 
            "cell_type": "code", 
            "execution_count": 51, 
            "outputs": [], 
            "metadata": {}
        }, 
        {
            "source": "X_testset_new = test_df[Feature.columns].values", 
            "cell_type": "code", 
            "execution_count": 52, 
            "outputs": [], 
            "metadata": {}
        }, 
        {
            "source": "X_test_new = preprocessing.StandardScaler().fit_transform(X_testset_new)", 
            "cell_type": "code", 
            "execution_count": 53, 
            "outputs": [
                {
                    "output_type": "stream", 
                    "name": "stderr", 
                    "text": "/opt/conda/envs/Python36/lib/python3.6/site-packages/sklearn/utils/validation.py:595: DataConversionWarning: Data with input dtype int64 was converted to float64 by StandardScaler.\n  warnings.warn(msg, DataConversionWarning)\n/opt/conda/envs/Python36/lib/python3.6/site-packages/sklearn/utils/validation.py:595: DataConversionWarning: Data with input dtype int64 was converted to float64 by StandardScaler.\n  warnings.warn(msg, DataConversionWarning)\n"
                }
            ], 
            "metadata": {}
        }, 
        {
            "source": "y_test_new = test_df['loan_status'].values", 
            "cell_type": "code", 
            "execution_count": 54, 
            "outputs": [], 
            "metadata": {}
        }, 
        {
            "source": "yhat_svm_new = best_svm.predict(X_test_new)\nyhat_lr_new = logreg.predict(X_test_new)", 
            "cell_type": "code", 
            "execution_count": 55, 
            "outputs": [], 
            "metadata": {}
        }, 
        {
            "source": "print('kNN F1 score: ', f1_score(y_test_new, kNN_model.predict(X_test_new), average='weighted'))\nprint('kNN Jaccard similarity score: ', jaccard_similarity_score(y_test_new, kNN_model.predict(X_test_new)))", 
            "cell_type": "code", 
            "execution_count": 56, 
            "outputs": [
                {
                    "output_type": "stream", 
                    "name": "stdout", 
                    "text": "kNN F1 score:  0.6328400281888654\nkNN Jaccard similarity score:  0.6666666666666666\n"
                }
            ], 
            "metadata": {}
        }, 
        {
            "source": "print('Decision Tree F1 score: ', f1_score(y_test_new, final_tree.predict(X_testset_new), average='weighted'))\nprint('Decision Tree Jaccard similarity score: ', jaccard_similarity_score(y_test_new, final_tree.predict(X_testset_new)))", 
            "cell_type": "code", 
            "execution_count": 57, 
            "outputs": [
                {
                    "output_type": "stream", 
                    "name": "stdout", 
                    "text": "Decision Tree F1 score:  0.6304176516942475\nDecision Tree Jaccard similarity score:  0.7407407407407407\n"
                }, 
                {
                    "output_type": "stream", 
                    "name": "stderr", 
                    "text": "/opt/conda/envs/Python36/lib/python3.6/site-packages/sklearn/metrics/classification.py:1143: UndefinedMetricWarning: F-score is ill-defined and being set to 0.0 in labels with no predicted samples.\n  'precision', 'predicted', average, warn_for)\n"
                }
            ], 
            "metadata": {}
        }, 
        {
            "source": "print('SVM F1 score: ', f1_score(y_test_new, yhat_svm_new, average='weighted'))\nprint('SVM Jaccard similarity score: ', jaccard_similarity_score(y_test_new, yhat_svm_new))", 
            "cell_type": "code", 
            "execution_count": 58, 
            "outputs": [
                {
                    "output_type": "stream", 
                    "name": "stdout", 
                    "text": "SVM F1 score:  0.6453810131971051\nSVM Jaccard similarity score:  0.6851851851851852\n"
                }
            ], 
            "metadata": {}
        }, 
        {
            "source": "print('Logistic Regression F1 score: ', f1_score(y_test_new, yhat_lr_new, average='weighted'))\nprint('Logistic Regression Jaccard similarity score: ', jaccard_similarity_score(y_test_new, yhat_lr_new))", 
            "cell_type": "code", 
            "execution_count": 59, 
            "outputs": [
                {
                    "output_type": "stream", 
                    "name": "stdout", 
                    "text": "Logistic Regression F1 score:  0.6304176516942475\nLogistic Regression Jaccard similarity score:  0.7407407407407407\n"
                }, 
                {
                    "output_type": "stream", 
                    "name": "stderr", 
                    "text": "/opt/conda/envs/Python36/lib/python3.6/site-packages/sklearn/metrics/classification.py:1143: UndefinedMetricWarning: F-score is ill-defined and being set to 0.0 in labels with no predicted samples.\n  'precision', 'predicted', average, warn_for)\n"
                }
            ], 
            "metadata": {}
        }, 
        {
            "source": "from sklearn.metrics import log_loss\nyhat_prob_new = logreg.predict_proba(X_test_new)\nprint('Logistic Regression logarithmic loss value: ',log_loss(y_test_new, yhat_prob_new))", 
            "cell_type": "code", 
            "execution_count": 60, 
            "outputs": [
                {
                    "output_type": "stream", 
                    "name": "stdout", 
                    "text": "Logistic Regression logarithmic loss value:  0.4978511911872691\n"
                }
            ], 
            "metadata": {}
        }, 
        {
            "source": "# FINAL REPORT:", 
            "cell_type": "markdown", 
            "metadata": {}
        }, 
        {
            "source": "KNN:\nJACCARD INDEX:0.67\nF1 SCORE     :0.63", 
            "cell_type": "markdown", 
            "metadata": {}
        }, 
        {
            "source": "DECISION TREE:\nJACCARD INDEX:0.76\nF1 SCORE     :0.76", 
            "cell_type": "markdown", 
            "metadata": {}
        }, 
        {
            "source": "SVM: JACCARD INDEX:0.68 F1 SCORE:0.64", 
            "cell_type": "markdown", 
            "metadata": {}
        }, 
        {
            "source": "LOGISTIC REGRESSION:JACCARD INDEX:0.74 F1 SCORE:0.63 LOG LOSS:0.50", 
            "cell_type": "markdown", 
            "metadata": {}
        }, 
        {
            "source": "", 
            "cell_type": "code", 
            "execution_count": null, 
            "outputs": [], 
            "metadata": {}
        }
    ], 
    "nbformat": 4, 
    "metadata": {
        "kernelspec": {
            "display_name": "Python 3.6", 
            "name": "python3", 
            "language": "python"
        }, 
        "language_info": {
            "mimetype": "text/x-python", 
            "nbconvert_exporter": "python", 
            "version": "3.6.8", 
            "name": "python", 
            "pygments_lexer": "ipython3", 
            "file_extension": ".py", 
            "codemirror_mode": {
                "version": 3, 
                "name": "ipython"
            }
        }
    }
}